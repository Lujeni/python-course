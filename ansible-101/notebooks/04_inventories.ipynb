{
 "metadata": {
  "kernelspec": {
   "display_name": "Python 2",
   "language": "python",
   "name": "python2"
  },
  "language_info": {
   "codemirror_mode": {
    "name": "ipython",
    "version": 2
   },
   "file_extension": ".py",
   "mimetype": "text/x-python",
   "name": "python",
   "nbconvert_exporter": "python",
   "pygments_lexer": "ipython2",
   "version": "2.7.11"
  },
  "name": ""
 },
 "nbformat": 3,
 "nbformat_minor": 0,
 "worksheets": [
  {
   "cells": [
    {
     "cell_type": "markdown",
     "metadata": {},
     "source": [
      "# Inventories\n",
      "\n",
      "Inventories are a fundamental doc entrypoint for our infrastructures. \n",
      "\n",
      "They contain a lot of informations, including:\n",
      "    \n",
      "    - ansible_user\n",
      "    - configuration variables in [group_name:vars]\n",
      "    - host grouping eg. by geographical zones in [group_name:children]\n",
      "    \n",
      "    \n",
      "Files:\n",
      "\n",
      "\n",
      "  - [inventory](/edit/notebooks/exercise-04/inventory)\n",
      "    "
     ]
    },
    {
     "cell_type": "code",
     "collapsed": false,
     "input": [
      "cd exercise-04"
     ],
     "language": "python",
     "metadata": {},
     "outputs": [],
     "prompt_number": 2
    },
    {
     "cell_type": "code",
     "collapsed": false,
     "input": [
      "!cat inventory"
     ],
     "language": "python",
     "metadata": {},
     "outputs": [],
     "prompt_number": 3
    },
    {
     "cell_type": "code",
     "collapsed": false,
     "input": [
      "# The ping module is very useful. Use it whenever you want to check connectivity!\n",
      "!ansible -m ping -i inventory all[1:3]\n"
     ],
     "language": "python",
     "metadata": {},
     "outputs": [],
     "prompt_number": 6
    },
    {
     "cell_type": "heading",
     "level": 2,
     "metadata": {},
     "source": [
      "Inventory scripts"
     ]
    },
    {
     "cell_type": "code",
     "collapsed": false,
     "input": [
      "#To create custom inventory scripts just use python ;) and set it in\n",
      "\n",
      "!grep inventory  ansible.cfg # inventory = ./docker-inventory.py\n"
     ],
     "language": "python",
     "metadata": {},
     "outputs": [],
     "prompt_number": 22
    },
    {
     "cell_type": "markdown",
     "metadata": {
      "collapsed": true
     },
     "source": [
      "#### Exercise\n",
      "\n",
      "in the official ansible documentation find at least 3 `ansible_connection=docker` parameters "
     ]
    },
    {
     "cell_type": "code",
     "collapsed": false,
     "input": [
      "# List our containers. Note: this only works with docker-compose containers.\n",
      "from __future__ import print_function\n",
      "import docker\n",
      "c=docker.Client(base_url=\"http://172.17.0.1:2375\")\n",
      "container_fmt = lambda x: (\n",
      "    x['Names'][0][1:],\n",
      "    x['Labels']['com.docker.compose.service'], \n",
      "    x['NetworkSettings']['Networks']['bridge']['IPAddress'],\n",
      ")\n",
      "\n",
      "for x in c.containers():\n",
      "    print(*container_fmt(x), sep='\\t\\t')"
     ],
     "language": "python",
     "metadata": {},
     "outputs": [],
     "prompt_number": 7
    },
    {
     "cell_type": "code",
     "collapsed": false,
     "input": [
      "# Ansible accepts\n",
      "import json\n",
      "\n",
      "inventories = {\n",
      "    'web': {\n",
      "        'hosts': ['ws-1', 'ws-2'],\n",
      "    },\n",
      "    'db': {\n",
      "        'hosts': ['db-1', 'db-2'],\n",
      "    }\n",
      "}\n",
      "\n",
      "# like this \n",
      "print(json.dumps(inventories, indent=1))\n",
      "      "
     ],
     "language": "python",
     "metadata": {},
     "outputs": [],
     "prompt_number": 34
    },
    {
     "cell_type": "code",
     "collapsed": false,
     "input": [
      "# You can pass variables to generated inventories too\n",
      "inventories['web']['host_vars'] = {\n",
      "    'ansible_ssh_common_args': ' -o GSSApiAuthentication=no'\n",
      "}\n",
      "\n",
      "print(json.dumps(inventories, indent=1))\n"
     ],
     "language": "python",
     "metadata": {},
     "outputs": [],
     "prompt_number": 35
    },
    {
     "cell_type": "markdown",
     "metadata": {
      "collapsed": true
     },
     "source": [
      "#### Exercise: \n",
      "\n",
      "Reuse the code in [inventory-docker.py](/edit/notebooks/exercise-04/inventory-docker.py) to print a json inventory that:\n",
      "\n",
      "  - connects via docker to \"web\" hosts\n",
      "  - connects via ssh to \"ansible\" hosts \n",
      "\n",
      "Test it in the cell below.\n"
     ]
    },
    {
     "cell_type": "code",
     "collapsed": false,
     "input": [
      "!ansible -m ping -i inventory-docker.py all --limit ansible\n"
     ],
     "language": "python",
     "metadata": {},
     "outputs": [],
     "prompt_number": 8
    },
    {
     "cell_type": "markdown",
     "metadata": {
      "code_folding": [],
      "collapsed": true
     },
     "source": [
      "#### Exercise\n",
      "\n",
      "Modify the [inventory-docker.py](/edit/notebooks/exercise-04/inventory-docker.py) to skip StrictHostKeyChecking only on web hosts."
     ]
    },
    {
     "cell_type": "code",
     "collapsed": true,
     "input": [
      "# Test here your inventory"
     ],
     "language": "python",
     "metadata": {},
     "outputs": [],
     "prompt_number": 9
    },
    {
     "cell_type": "markdown",
     "metadata": {},
     "source": [
      "# Configurations\n",
      "\n",
      "You may want to split inventory files and separate prod and test environment."
     ]
    },
    {
     "cell_type": "markdown",
     "metadata": {},
     "source": [
      "## Exercise: \n",
      "\n",
      "split inventory in two inventory files:\n",
      "\n",
      "  - [prod](/edit/notebooks/exercise-04/prod)  for production servers \n",
      "  - [test](/edit/notebooks/exercise-04/test)  for test servers\n",
      "  \n",
      "Then use `ansible -i` to explicitly use the different ones."
     ]
    },
    {
     "cell_type": "code",
     "collapsed": true,
     "input": [
      "# Use this cell to test the exercise"
     ],
     "language": "python",
     "metadata": {},
     "outputs": [],
     "prompt_number": 23
    },
    {
     "cell_type": "markdown",
     "metadata": {},
     "source": [
      "## group_vars and host_vars\n",
      "\n",
      "You can move variables out of inventories - eg to simplify inventory scripts - and store them in files:\n",
      "\n",
      " - under `group_vars` for host groups\n",
      " - under `host_vars` for single hosts"
     ]
    },
    {
     "cell_type": "code",
     "collapsed": false,
     "input": [
      "!tree group_vars\n",
      "\n"
     ],
     "language": "python",
     "metadata": {},
     "outputs": [],
     "prompt_number": 12
    },
    {
     "cell_type": "markdown",
     "metadata": {},
     "source": [
      "If you have different inventories, you can store different set of variable in custom files.\n",
      "The `all` ones will be shared between all inventories\n",
      "\n",
      "## Exercise: \n",
      "    \n",
      "  - edit [group_vars/all](/edit/notebooks/exercise-04/group_vars/all) and move there all common variables from [inventory](/edit/notebooks/exercise-04/inventory) "
     ]
    },
    {
     "cell_type": "code",
     "collapsed": true,
     "input": [
      "# Test here the new inventory file"
     ],
     "language": "python",
     "metadata": {},
     "outputs": [],
     "prompt_number": null
    },
    {
     "cell_type": "markdown",
     "metadata": {},
     "source": [
      "Inventory variables can store almost everything and even describe the architecture of your deployment\n"
     ]
    },
    {
     "cell_type": "code",
     "collapsed": false,
     "input": [
      "!cat group_vars/example"
     ],
     "language": "python",
     "metadata": {},
     "outputs": [],
     "prompt_number": 10
    },
    {
     "cell_type": "markdown",
     "metadata": {},
     "source": [
      "We can even mix and mojo `group_vars` and `inventory`, as we'll see in the next lessons.\n",
      "\n",
      "\n",
      "\n"
     ]
    },
    {
     "cell_type": "markdown",
     "metadata": {},
     "source": [
      "### host_vars\n",
      "\n",
      "Host vars can be used in automated or cloud deployments where:\n",
      "\n",
      "  - every new host or vm, at boot, populate its own entries in `host_vars` (Eg. via file)\n",
      "  - ansible is run after that setup and uses `host_vars` to configure the server and expose that values to the other machines."
     ]
    }
   ],
   "metadata": {}
  }
 ]
}