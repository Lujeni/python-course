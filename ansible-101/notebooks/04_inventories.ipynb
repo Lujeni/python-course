{
 "cells": [
  {
   "cell_type": "markdown",
   "metadata": {},
   "source": [
    "# Inventories\n",
    "\n",
    "Inventories are a fundamental doc entrypoint for our infrastructures. \n",
    "\n",
    "They contain a lot of informations, including:\n",
    "    \n",
    "    - ansible_user\n",
    "    - configuration variables\n",
    "    - host grouping eg. by geographical zones\n",
    "    \n",
    "    "
   ]
  },
  {
   "cell_type": "code",
   "execution_count": 5,
   "metadata": {},
   "outputs": [
    {
     "name": "stdout",
     "output_type": "stream",
     "text": [
      "/notebooks/exercise-04\n"
     ]
    }
   ],
   "source": [
    "cd exercise-04"
   ]
  },
  {
   "cell_type": "code",
   "execution_count": 6,
   "metadata": {},
   "outputs": [
    {
     "name": "stdout",
     "output_type": "stream",
     "text": [
      "# I can group hosts in inventory\r\n",
      "\r\n",
      "[web:children]\r\n",
      "web_rome\r\n",
      "web_milan\r\n",
      "\r\n",
      "[web_rome:children]\r\n",
      "web_rome_test\r\n",
      "web_rome_prod\r\n",
      "\r\n",
      "# further host variables\r\n",
      "[web_rome:vars]\r\n",
      "ansible_username=root \r\n",
      "\r\n",
      "# Connect with docker \r\n",
      "[web_rome_test:vars]\r\n",
      "ansible_connection=docker\r\n",
      "ansible_docker_extra_args=\"-Htcp://172.17.0.1\"\r\n",
      "\r\n",
      "\r\n",
      "\r\n",
      "# The actual host reference\r\n",
      "[web_rome_test]\r\n",
      "ansible101_web_1\r\n",
      "\r\n",
      "\r\n",
      "[web_rome_prod]\r\n",
      "172.23.0.[3:4]\r\n",
      "\r\n",
      "[web_milan]\r\n",
      "172.24.0.[5:6]\r\n"
     ]
    }
   ],
   "source": [
    "!cat inventory"
   ]
  },
  {
   "cell_type": "code",
   "execution_count": 7,
   "metadata": {},
   "outputs": [
    {
     "name": "stdout",
     "output_type": "stream",
     "text": [
      "\u001b[0;32mansible101_web_1 | SUCCESS => {\u001b[0m\n",
      "\u001b[0;32m    \"changed\": false, \u001b[0m\n",
      "\u001b[0;32m    \"ping\": \"pong\"\u001b[0m\n",
      "\u001b[0;32m}\u001b[0m\n",
      "\u001b[1;31m172.23.0.3 | UNREACHABLE! => {\u001b[0m\n",
      "\u001b[1;31m    \"changed\": false, \u001b[0m\n",
      "\u001b[1;31m    \"msg\": \"Failed to connect to the host via ssh: ssh: connect to host 172.23.0.3 port 22: Network is unreachable\\r\\n\", \u001b[0m\n",
      "\u001b[1;31m    \"unreachable\": true\u001b[0m\n",
      "\u001b[1;31m}\u001b[0m\n",
      "\u001b[1;31m172.23.0.4 | UNREACHABLE! => {\u001b[0m\n",
      "\u001b[1;31m    \"changed\": false, \u001b[0m\n",
      "\u001b[1;31m    \"msg\": \"Failed to connect to the host via ssh: ssh: connect to host 172.23.0.4 port 22: Connection timed out\\r\\n\", \u001b[0m\n",
      "\u001b[1;31m    \"unreachable\": true\u001b[0m\n",
      "\u001b[1;31m}\u001b[0m\n",
      "\u001b[1;31m172.24.0.5 | UNREACHABLE! => {\u001b[0m\n",
      "\u001b[1;31m    \"changed\": false, \u001b[0m\n",
      "\u001b[1;31m    \"msg\": \"Failed to connect to the host via ssh: ssh: connect to host 172.24.0.5 port 22: Connection timed out\\r\\n\", \u001b[0m\n",
      "\u001b[1;31m    \"unreachable\": true\u001b[0m\n",
      "\u001b[1;31m}\u001b[0m\n",
      "\u001b[1;31m172.24.0.6 | UNREACHABLE! => {\u001b[0m\n",
      "\u001b[1;31m    \"changed\": false, \u001b[0m\n",
      "\u001b[1;31m    \"msg\": \"Failed to connect to the host via ssh: ssh: connect to host 172.24.0.6 port 22: Connection timed out\\r\\n\", \u001b[0m\n",
      "\u001b[1;31m    \"unreachable\": true\u001b[0m\n",
      "\u001b[1;31m}\u001b[0m\n"
     ]
    }
   ],
   "source": [
    "# The ping module is very useful. Use it whenever you want to check connectivity!\n",
    "!ansible -m ping -i inventory all\n"
   ]
  },
  {
   "cell_type": "markdown",
   "metadata": {},
   "source": [
    "## The setup module\n",
    "\n",
    "It's very useful. When running ansible playbooks you can access all the variables it gathers"
   ]
  },
  {
   "cell_type": "code",
   "execution_count": 15,
   "metadata": {},
   "outputs": [],
   "source": [
    "# The After the ping module, there's another one which is very useful\n",
    "# Exercise:\n",
    "# - run the following command\n",
    "# - what does it do?\n",
    "# - where's  its output ?\n",
    "# - use the json module to reindent it\n",
    "!ansible >/dev/null -i inventory -m setup ansible101_web_1 --tree host_status"
   ]
  },
  {
   "cell_type": "code",
   "execution_count": 28,
   "metadata": {},
   "outputs": [
    {
     "data": {
      "text/plain": [
       "{u'ansible_facts': {u'ansible_all_ipv4_addresses': [u'172.17.0.3'],\n",
       "  u'ansible_all_ipv6_addresses': [u'fe80::42:acff:fe11:3'],\n",
       "  u'ansible_apparmor': {u'status': u'disabled'},\n",
       "  u'ansible_architecture': u'x86_64',\n",
       "  u'ansible_bios_date': u'06/30/2014',\n",
       "  u'ansible_bios_version': u'A00',\n",
       "  u'ansible_cmdline': {u'BOOT_IMAGE': u'/vmlinuz-4.10.17-100.fc24.x86_64',\n",
       "   u'LANG': u'it_IT.UTF-8',\n",
       "   u'i8042.nopnp': True,\n",
       "   u'rd.lvm.lv': u'vg0/root00',\n",
       "   u'ro': True,\n",
       "   u'root': u'/dev/mapper/vg0-root00'},\n",
       "  u'ansible_date_time': {u'date': u'2017-06-26',\n",
       "   u'day': u'26',\n",
       "   u'epoch': u'1498503105',\n",
       "   u'hour': u'18',\n",
       "   u'iso8601': u'2017-06-26T18:51:45Z',\n",
       "   u'iso8601_basic': u'20170626T185145691667',\n",
       "   u'iso8601_basic_short': u'20170626T185145',\n",
       "   u'iso8601_micro': u'2017-06-26T18:51:45.691728Z',\n",
       "   u'minute': u'51',\n",
       "   u'month': u'06',\n",
       "   u'second': u'45',\n",
       "   u'time': u'18:51:45',\n",
       "   u'tz': u'UTC',\n",
       "   u'tz_offset': u'+0000',\n",
       "   u'weekday': u'Monday',\n",
       "   u'weekday_number': u'1',\n",
       "   u'weeknumber': u'26',\n",
       "   u'year': u'2017'},\n",
       "  u'ansible_default_ipv4': {u'address': u'172.17.0.3',\n",
       "   u'alias': u'eth0',\n",
       "   u'broadcast': u'global',\n",
       "   u'gateway': u'172.17.0.1',\n",
       "   u'interface': u'eth0',\n",
       "   u'macaddress': u'02:42:ac:11:00:03',\n",
       "   u'mtu': 1500,\n",
       "   u'netmask': u'255.255.0.0',\n",
       "   u'network': u'172.17.0.0',\n",
       "   u'type': u'ether'},\n",
       "  u'ansible_default_ipv6': {},\n",
       "  u'ansible_devices': {u'sda': {u'holders': [],\n",
       "    u'host': u'',\n",
       "    u'model': u'ST500LM000-1EJ16',\n",
       "    u'partitions': {u'sda1': {u'holders': [],\n",
       "      u'sectors': u'1024000',\n",
       "      u'sectorsize': 512,\n",
       "      u'size': u'500.00 MB',\n",
       "      u'start': u'2048',\n",
       "      u'uuid': None},\n",
       "     u'sda2': {u'holders': [],\n",
       "      u'sectors': u'81920',\n",
       "      u'sectorsize': 512,\n",
       "      u'size': u'40.00 MB',\n",
       "      u'start': u'1026048',\n",
       "      u'uuid': None},\n",
       "     u'sda3': {u'holders': [],\n",
       "      u'sectors': u'262144',\n",
       "      u'sectorsize': 512,\n",
       "      u'size': u'128.00 MB',\n",
       "      u'start': u'1107968',\n",
       "      u'uuid': None},\n",
       "     u'sda4': {u'holders': [],\n",
       "      u'sectors': u'1536000',\n",
       "      u'sectorsize': 512,\n",
       "      u'size': u'750.00 MB',\n",
       "      u'start': u'1370112',\n",
       "      u'uuid': None},\n",
       "     u'sda5': {u'holders': [],\n",
       "      u'sectors': u'819200',\n",
       "      u'sectorsize': 512,\n",
       "      u'size': u'400.00 MB',\n",
       "      u'start': u'2906112',\n",
       "      u'uuid': None},\n",
       "     u'sda6': {u'holders': [],\n",
       "      u'sectors': u'14827568',\n",
       "      u'sectorsize': 512,\n",
       "      u'size': u'7.07 GB',\n",
       "      u'start': u'961943552',\n",
       "      u'uuid': None},\n",
       "     u'sda7': {u'holders': [],\n",
       "      u'sectors': u'1048576',\n",
       "      u'sectorsize': 512,\n",
       "      u'size': u'512.00 MB',\n",
       "      u'start': u'3725312',\n",
       "      u'uuid': None},\n",
       "     u'sda8': {u'holders': [u'vg0-home',\n",
       "       u'vg0-data',\n",
       "       u'vg0-root00',\n",
       "       u'vg0-var'],\n",
       "      u'sectors': u'897589248',\n",
       "      u'sectorsize': 512,\n",
       "      u'size': u'428.00 GB',\n",
       "      u'start': u'4773888',\n",
       "      u'uuid': None},\n",
       "     u'sda9': {u'holders': [],\n",
       "      u'sectors': u'8388608',\n",
       "      u'sectorsize': 512,\n",
       "      u'size': u'4.00 GB',\n",
       "      u'start': u'902363136',\n",
       "      u'uuid': None}},\n",
       "    u'removable': u'0',\n",
       "    u'rotational': u'1',\n",
       "    u'sas_address': None,\n",
       "    u'sas_device_handle': None,\n",
       "    u'scheduler_mode': u'cfq',\n",
       "    u'sectors': u'976773168',\n",
       "    u'sectorsize': u'512',\n",
       "    u'size': u'465.76 GB',\n",
       "    u'support_discard': u'0',\n",
       "    u'vendor': u'ATA'}},\n",
       "  u'ansible_distribution': u'Debian',\n",
       "  u'ansible_distribution_major_version': u'8',\n",
       "  u'ansible_distribution_release': u'jessie',\n",
       "  u'ansible_distribution_version': u'8.6',\n",
       "  u'ansible_dns': {u'nameservers': [u'192.168.1.254',\n",
       "    u'#',\n",
       "    u'removeme',\n",
       "    u'10.0.11.254',\n",
       "    u'#',\n",
       "    u'removeme-babel-dns',\n",
       "    u'10.0.11.254',\n",
       "    u'#',\n",
       "    u'removeme-babel-dns',\n",
       "    u'10.0.11.254',\n",
       "    u'192.168.1.254'],\n",
       "   u'search': [u'babel.it', u'lan']},\n",
       "  u'ansible_domain': u'',\n",
       "  u'ansible_effective_group_id': 0,\n",
       "  u'ansible_effective_user_id': 0,\n",
       "  u'ansible_env': {u'HOME': u'/root',\n",
       "   u'HOSTNAME': u'7fe30f47a50a',\n",
       "   u'PATH': u'/usr/local/sbin:/usr/local/bin:/usr/sbin:/usr/bin:/sbin:/bin',\n",
       "   u'PWD': u'/'},\n",
       "  u'ansible_eth0': {u'active': True,\n",
       "   u'device': u'eth0',\n",
       "   u'features': {},\n",
       "   u'ipv4': {u'address': u'172.17.0.3',\n",
       "    u'broadcast': u'global',\n",
       "    u'netmask': u'255.255.0.0',\n",
       "    u'network': u'172.17.0.0'},\n",
       "   u'ipv6': [{u'address': u'fe80::42:acff:fe11:3',\n",
       "     u'prefix': u'64',\n",
       "     u'scope': u'link'}],\n",
       "   u'macaddress': u'02:42:ac:11:00:03',\n",
       "   u'mtu': 1500,\n",
       "   u'promisc': False,\n",
       "   u'speed': 10000,\n",
       "   u'type': u'ether'},\n",
       "  u'ansible_fips': False,\n",
       "  u'ansible_form_factor': u'Portable',\n",
       "  u'ansible_fqdn': u'7fe30f47a50a',\n",
       "  u'ansible_gather_subset': [u'hardware', u'network', u'virtual'],\n",
       "  u'ansible_hostname': u'7fe30f47a50a',\n",
       "  u'ansible_interfaces': [u'lo', u'eth0'],\n",
       "  u'ansible_kernel': u'4.10.17-100.fc24.x86_64',\n",
       "  u'ansible_lo': {u'active': True,\n",
       "   u'device': u'lo',\n",
       "   u'features': {},\n",
       "   u'ipv4': {u'address': u'127.0.0.1',\n",
       "    u'broadcast': u'host',\n",
       "    u'netmask': u'255.0.0.0',\n",
       "    u'network': u'127.0.0.0'},\n",
       "   u'ipv6': [{u'address': u'::1', u'prefix': u'128', u'scope': u'host'}],\n",
       "   u'mtu': 65536,\n",
       "   u'promisc': False,\n",
       "   u'type': u'loopback'},\n",
       "  u'ansible_machine': u'x86_64',\n",
       "  u'ansible_machine_id': u'16e25f4d8dbe4e219f5011854772e32c',\n",
       "  u'ansible_memfree_mb': 1230,\n",
       "  u'ansible_memory_mb': {u'nocache': {u'free': 3396, u'used': 4510},\n",
       "   u'real': {u'free': 1230, u'total': 7906, u'used': 6676},\n",
       "   u'swap': {u'cached': 87, u'free': 3209, u'total': 4095, u'used': 886}},\n",
       "  u'ansible_memtotal_mb': 7906,\n",
       "  u'ansible_mounts': [{u'device': u'/dev/mapper/docker-253:2-537280731-eb92264366fcbaf248d3d5a93bbaab17eec130b43ff94e44e11abab77f5f2038',\n",
       "    u'fstype': u'xfs',\n",
       "    u'mount': u'/',\n",
       "    u'options': u'rw,context=\"system_u:object_r:svirt_sandbox_file_t:s0:c230,c811\",relatime,nouuid,attr2,inode64,logbsize=64k,sunit=128,swidth=128,noquota,bind',\n",
       "    u'size_available': 107076997120,\n",
       "    u'size_total': 107320705024,\n",
       "    u'uuid': u'N/A'},\n",
       "   {u'device': u'/dev/mapper/vg0-home',\n",
       "    u'fstype': u'xfs',\n",
       "    u'mount': u'/code',\n",
       "    u'options': u'rw,seclabel,relatime,attr2,inode64,noquota,bind',\n",
       "    u'size_available': 18586177536,\n",
       "    u'size_total': 214643507200,\n",
       "    u'uuid': u'N/A'},\n",
       "   {u'device': u'/dev/mapper/vg0-data',\n",
       "    u'fstype': u'xfs',\n",
       "    u'mount': u'/etc/resolv.conf',\n",
       "    u'options': u'rw,seclabel,relatime,attr2,inode64,noquota,bind',\n",
       "    u'size_available': 1487020032,\n",
       "    u'size_total': 214643507200,\n",
       "    u'uuid': u'N/A'},\n",
       "   {u'device': u'/dev/mapper/vg0-data',\n",
       "    u'fstype': u'xfs',\n",
       "    u'mount': u'/etc/hostname',\n",
       "    u'options': u'rw,seclabel,relatime,attr2,inode64,noquota,bind',\n",
       "    u'size_available': 1487020032,\n",
       "    u'size_total': 214643507200,\n",
       "    u'uuid': u'N/A'},\n",
       "   {u'device': u'/dev/mapper/vg0-data',\n",
       "    u'fstype': u'xfs',\n",
       "    u'mount': u'/etc/hosts',\n",
       "    u'options': u'rw,seclabel,relatime,attr2,inode64,noquota,bind',\n",
       "    u'size_available': 1487020032,\n",
       "    u'size_total': 214643507200,\n",
       "    u'uuid': u'N/A'},\n",
       "   {u'device': u'/dev/mapper/vg0-home',\n",
       "    u'fstype': u'xfs',\n",
       "    u'mount': u'/root/.ssh/authorized_keys',\n",
       "    u'options': u'rw,seclabel,relatime,attr2,inode64,noquota,bind',\n",
       "    u'size_available': 18586177536,\n",
       "    u'size_total': 214643507200,\n",
       "    u'uuid': u'N/A'}],\n",
       "  u'ansible_nodename': u'7fe30f47a50a',\n",
       "  u'ansible_os_family': u'Debian',\n",
       "  u'ansible_pkg_mgr': u'apt',\n",
       "  u'ansible_processor': [u'GenuineIntel',\n",
       "   u'Intel(R) Core(TM) i5-4210U CPU @ 1.70GHz',\n",
       "   u'GenuineIntel',\n",
       "   u'Intel(R) Core(TM) i5-4210U CPU @ 1.70GHz',\n",
       "   u'GenuineIntel',\n",
       "   u'Intel(R) Core(TM) i5-4210U CPU @ 1.70GHz',\n",
       "   u'GenuineIntel',\n",
       "   u'Intel(R) Core(TM) i5-4210U CPU @ 1.70GHz'],\n",
       "  u'ansible_processor_cores': 2,\n",
       "  u'ansible_processor_count': 1,\n",
       "  u'ansible_processor_threads_per_core': 2,\n",
       "  u'ansible_processor_vcpus': 4,\n",
       "  u'ansible_product_name': u'Inspiron 7347',\n",
       "  u'ansible_product_serial': u'54CK432',\n",
       "  u'ansible_product_uuid': u'4C4C4544-0034-4310-804B-B5C04F343332',\n",
       "  u'ansible_product_version': u'00h',\n",
       "  u'ansible_python': {u'executable': u'/usr/bin/python',\n",
       "   u'has_sslcontext': True,\n",
       "   u'type': u'CPython',\n",
       "   u'version': {u'major': 2,\n",
       "    u'micro': 9,\n",
       "    u'minor': 7,\n",
       "    u'releaselevel': u'final',\n",
       "    u'serial': 0},\n",
       "   u'version_info': [2, 7, 9, u'final', 0]},\n",
       "  u'ansible_python_version': u'2.7.9',\n",
       "  u'ansible_real_group_id': 0,\n",
       "  u'ansible_real_user_id': 0,\n",
       "  u'ansible_selinux': False,\n",
       "  u'ansible_service_mgr': u'sshd',\n",
       "  u'ansible_ssh_host_key_dsa_public': u'AAAAB3NzaC1kc3MAAACBAKaoKDWz3bA6aRcsBQ0ah5lUl73Kzvw6nCUr/SxICs371+c4U5BoWHPARSzFAWTcMKYk0LlVgbI/FLvvQRnBnh1E1gN2U9Az/xO2vc+k1slBCwZVx6SF13wOafhj+Js7rdETTw0AlFRcBpj8v6SFgUfVpZgzUNpu+1d2WXUHLpRdAAAAFQDpWtor2j8v/ln++w7dkJIrht4owQAAAIAwlgeo72d10FENiPvurMA2DtG531gbI873eqMeYCzjjYS7q3MVwZ6jZB7tNiSL0Ul2vYbItzK7E8o5YcS3+EynPfYEnzVrbWD9Dr53IwvZH230qNpyBV4DAKplxw5MX8FNQxm/UPJERzvkSCf+muo6lEHeBGj+Lzo9G6J2fhw1qgAAAIEAmeY7IAg84FRzwcprp3ahBwt9zmMPIA1emxrkFzgBjNLmBAITscux58DDzQgqMBsCa3CyzpV4/iTr4e7F8sPPy5xC5ENHV2H9rkNrOdHsrWippTUa4f2o8GLtQ9WBo8uMGE4+acd01w+wXRWnlJriAu8UwN5RVNIx3N2/RLd1Hxg=',\n",
       "  u'ansible_ssh_host_key_ecdsa_public': u'AAAAE2VjZHNhLXNoYTItbmlzdHAyNTYAAAAIbmlzdHAyNTYAAABBBN5vyysFbIOhxJX8lwCkeIcgq3owAARwyE50PfK2RgtR2w2F8Wi2Vy6YvKuMv6TYsl67p8QgizR6XLfe3jyeEIg=',\n",
       "  u'ansible_ssh_host_key_ed25519_public': u'AAAAC3NzaC1lZDI1NTE5AAAAICIh5s3kPAFJ+pmkVW65x8ix7PbqthQzJwJVfF4BspAs',\n",
       "  u'ansible_ssh_host_key_rsa_public': u'AAAAB3NzaC1yc2EAAAADAQABAAABAQCiDyiFV9yDtmyu4bFQ7obgExTqF/IoTQbHzDTyc8IK0f8mTXcNaBOGxRR8fUoPLiKMnwP6QhxtpNjRJVXP3oFeMssaclKgGsaPgHcXtr3QO6GSpvsJsDZtywvSbDhD51g1PyxFULFvoPRW2h5wZojj4N0p5FYJPjqgC/LFEd06raVIfEUlmsen1o/NGjwmK2xqAGbyORG7qS5zMfq1kdDW1S7KBIxMrTmAe5+orXi2mooe5d5VL8B0c+P/izSeiT/YteL3vGhqJrWqwe9plTtfdZQynlOuROvn54vupet1WbOyrbMG3hH3tUo/wGdaXPJid+L0MAywezARaamlBZEJ',\n",
       "  u'ansible_swapfree_mb': 3209,\n",
       "  u'ansible_swaptotal_mb': 4095,\n",
       "  u'ansible_system': u'Linux',\n",
       "  u'ansible_system_capabilities': [u'cap_chown',\n",
       "   u'cap_dac_override',\n",
       "   u'cap_fowner',\n",
       "   u'cap_fsetid',\n",
       "   u'cap_kill',\n",
       "   u'cap_setgid',\n",
       "   u'cap_setuid',\n",
       "   u'cap_setpcap',\n",
       "   u'cap_net_bind_service',\n",
       "   u'cap_net_raw',\n",
       "   u'cap_sys_chroot',\n",
       "   u'cap_mknod',\n",
       "   u'cap_audit_write',\n",
       "   u'cap_setfcap+eip'],\n",
       "  u'ansible_system_capabilities_enforced': u'True',\n",
       "  u'ansible_system_vendor': u'Dell Inc.',\n",
       "  u'ansible_uptime_seconds': 534579,\n",
       "  u'ansible_user_dir': u'/root',\n",
       "  u'ansible_user_gecos': u'root',\n",
       "  u'ansible_user_gid': 0,\n",
       "  u'ansible_user_id': u'root',\n",
       "  u'ansible_user_shell': u'/bin/bash',\n",
       "  u'ansible_user_uid': 0,\n",
       "  u'ansible_userspace_architecture': u'x86_64',\n",
       "  u'ansible_userspace_bits': u'64',\n",
       "  u'ansible_virtualization_role': u'guest',\n",
       "  u'ansible_virtualization_type': u'docker',\n",
       "  u'module_setup': True},\n",
       " u'changed': False}"
      ]
     },
     "execution_count": 28,
     "metadata": {},
     "output_type": "execute_result"
    }
   ],
   "source": [
    "# Hide the following in some way XXX\n",
    "ret = !cat host_status/ansible101_web_1\n",
    "import json\n",
    "json.loads(ret.s)"
   ]
  },
  {
   "cell_type": "code",
   "execution_count": 27,
   "metadata": {
    "collapsed": true
   },
   "outputs": [],
   "source": [
    "# Exercise: gather the following infos from the ansible setup module\n",
    "# - hostname\n",
    "# - first ip address\n",
    "# - distribution\n",
    "# - kernel release\n"
   ]
  },
  {
   "cell_type": "markdown",
   "metadata": {},
   "source": [
    "## Inventory scripts"
   ]
  },
  {
   "cell_type": "code",
   "execution_count": 22,
   "metadata": {},
   "outputs": [
    {
     "name": "stdout",
     "output_type": "stream",
     "text": [
      "inventory = inventory-docker.py\r\n"
     ]
    }
   ],
   "source": [
    "#To create custom inventory scripts just use python ;) and set it in\n",
    "\n",
    "!grep inventory  ansible.cfg #inventory = ./docker-inventory.py\n"
   ]
  },
  {
   "cell_type": "code",
   "execution_count": 11,
   "metadata": {
    "collapsed": true
   },
   "outputs": [],
   "source": [
    "# Exercise: in the official ansible documentation find at least 3 `ansible_connection=docker` parameters "
   ]
  },
  {
   "cell_type": "code",
   "execution_count": 26,
   "metadata": {},
   "outputs": [
    {
     "name": "stdout",
     "output_type": "stream",
     "text": [
      "ansible101_web_6\t\tweb\t\t172.17.0.9\n",
      "ansible101_web_3\t\tweb\t\t172.17.0.8\n",
      "ansible101_web_4\t\tweb\t\t172.17.0.7\n",
      "ansible101_web_5\t\tweb\t\t172.17.0.6\n",
      "ansible101_ansible_1\t\tansible\t\t172.17.0.5\n",
      "ansible101_web_2\t\tweb\t\t172.17.0.4\n",
      "ansible101_web_1\t\tweb\t\t172.17.0.3\n",
      "ansible101_dev_1\t\tdev\t\t172.17.0.2\n"
     ]
    }
   ],
   "source": [
    "# List our containers. Note: this only works with docker-compose containers.\n",
    "from __future__ import print_function\n",
    "import docker\n",
    "c=docker.Client(base_url=\"http://172.17.0.1:2375\")\n",
    "container_fmt = lambda x: (\n",
    "    x['Names'][0][1:],\n",
    "    x['Labels']['com.docker.compose.service'], \n",
    "    x['NetworkSettings']['Networks']['bridge']['IPAddress'],\n",
    ")\n",
    "\n",
    "for x in c.containers():\n",
    "    print(*container_fmt(x), sep='\\t\\t')"
   ]
  },
  {
   "cell_type": "code",
   "execution_count": 34,
   "metadata": {},
   "outputs": [
    {
     "name": "stdout",
     "output_type": "stream",
     "text": [
      "{\n",
      " \"web\": {\n",
      "  \"hosts\": [\n",
      "   \"ws-1\", \n",
      "   \"ws-2\"\n",
      "  ]\n",
      " }, \n",
      " \"db\": {\n",
      "  \"hosts\": [\n",
      "   \"db-1\", \n",
      "   \"db-2\"\n",
      "  ]\n",
      " }\n",
      "}\n"
     ]
    }
   ],
   "source": [
    "# Ansible accepts\n",
    "import json\n",
    "\n",
    "inventories = {\n",
    "    'web': {\n",
    "        'hosts': ['ws-1', 'ws-2'],\n",
    "    },\n",
    "    'db': {\n",
    "        'hosts': ['db-1', 'db-2'],\n",
    "    }\n",
    "}\n",
    "\n",
    "# like this \n",
    "print(json.dumps(inventories, indent=1))\n",
    "      "
   ]
  },
  {
   "cell_type": "code",
   "execution_count": 35,
   "metadata": {},
   "outputs": [
    {
     "name": "stdout",
     "output_type": "stream",
     "text": [
      "{\n",
      " \"web\": {\n",
      "  \"hosts\": [\n",
      "   \"ws-1\", \n",
      "   \"ws-2\"\n",
      "  ], \n",
      "  \"host_vars\": {\n",
      "   \"ansible_ssh_common_args\": \" -o GSSApiAuthentication=no\"\n",
      "  }\n",
      " }, \n",
      " \"db\": {\n",
      "  \"hosts\": [\n",
      "   \"db-1\", \n",
      "   \"db-2\"\n",
      "  ]\n",
      " }\n",
      "}\n"
     ]
    }
   ],
   "source": [
    "# You can pass variables to generated inventories too\n",
    "inventories['web']['host_vars'] = {\n",
    "    'ansible_ssh_common_args': ' -o GSSApiAuthentication=no'\n",
    "}\n",
    "\n",
    "print(json.dumps(inventories, indent=1))\n"
   ]
  },
  {
   "cell_type": "code",
   "execution_count": 40,
   "metadata": {
    "collapsed": true
   },
   "outputs": [],
   "source": [
    "# Exercise: using the above code, create a custom inventory-docker.py that\n",
    "# - connects via docker to \"web\" hosts\n",
    "# - connects via ssh to \"ansible\" hosts \n",
    "\n"
   ]
  },
  {
   "cell_type": "code",
   "execution_count": 12,
   "metadata": {},
   "outputs": [
    {
     "name": "stdout",
     "output_type": "stream",
     "text": [
      "\u001b[0;31mERROR! Attempted to execute \"inventory-docker.py\" as inventory script: Inventory script (inventory-docker.py) had an execution error: DEBUG:docker.auth.auth:Trying paths: ['/root/.docker/config.json', '/root/.dockercfg']\u001b[0m\r\n",
      "\u001b[0;31mDEBUG:docker.auth.auth:No config file found\u001b[0m\r\n",
      "\u001b[0;31mDEBUG:urllib3.connectionpool:Starting new HTTP connection (1): 172.17.0.1\u001b[0m\r\n",
      "\u001b[0;31mDEBUG:urllib3.connectionpool:http://172.17.0.1:2375 \"GET /v1.24/containers/json?all=0&limit=-1&trunc_cmd=0&size=0 HTTP/1.1\" 200 None\u001b[0m\r\n",
      "\u001b[0;31mDEBUG:root:Processing entry u'ansible101_dev_1\\t\\tdev\\t\\t172.17.0.2'\u001b[0m\r\n",
      "\u001b[0;31mDEBUG:root:Processing entry u'ansible101_ansible_1\\t\\tansible\\t\\t172.17.0.5'\u001b[0m\r\n",
      "\u001b[0;31mDEBUG:root:Processing entry u'ansible101_web_2\\t\\tweb\\t\\t172.17.0.4'\u001b[0m\r\n",
      "\u001b[0;31mDEBUG:root:Processing entry u'ansible101_web_1\\t\\tweb\\t\\t172.17.0.3'\u001b[0m\r\n",
      "\u001b[0;31mTraceback (most recent call last):\u001b[0m\r\n",
      "\u001b[0;31m  File \"/notebooks/exercise-04/inventory-docker.py\", line 25, in <module>\u001b[0m\r\n",
      "\u001b[0;31m    inventory['web']['ansible_ssh_common_args'] = ' -o StrictHostKeyChecking=no '\u001b[0m\r\n",
      "\u001b[0;31mTypeError: list indices must be integers, not str\u001b[0m\r\n",
      "\u001b[0;31m \u001b[0m\r\n"
     ]
    }
   ],
   "source": [
    "# Test our custom inventory-docker.py file\n",
    "!ansible -m ping -i inventory-docker.py all --limit ansible\n"
   ]
  },
  {
   "cell_type": "code",
   "execution_count": null,
   "metadata": {
    "collapsed": true
   },
   "outputs": [],
   "source": [
    "# Now modify the inventory-docker.py to skip StrictHostKeyChecking only on web hosts."
   ]
  },
  {
   "cell_type": "markdown",
   "metadata": {},
   "source": [
    "# Configurations\n",
    "\n",
    "You may want to split inventory files and separate prod and test environment."
   ]
  },
  {
   "cell_type": "markdown",
   "metadata": {},
   "source": [
    "Exercise: use this cell to split inventory in two inventory files:\n",
    "\n",
    "  - [click here](/edit/notebooks/exercise-04/prod) prod for production servers \n",
    "  - [click here](/edit/notebooks/exercise-04/test) test for test servers\n",
    "  \n",
    "  "
   ]
  },
  {
   "cell_type": "code",
   "execution_count": 23,
   "metadata": {
    "collapsed": true
   },
   "outputs": [],
   "source": [
    "!ansible -i prod -m ping all\n",
    "!ansible -i test -m ping all"
   ]
  },
  {
   "cell_type": "markdown",
   "metadata": {},
   "source": [
    "## group_vars\n",
    "You can move variables out of inventories - eg to simplify inventory scripts - and store them in files under"
   ]
  },
  {
   "cell_type": "code",
   "execution_count": 24,
   "metadata": {},
   "outputs": [
    {
     "name": "stdout",
     "output_type": "stream",
     "text": [
      ".\r\n",
      "├── ansible.cfg\r\n",
      "├── group_vars\r\n",
      "│   ├── all\r\n",
      "│   └── example\r\n",
      "├── inventory\r\n",
      "├── inventory-docker.py\r\n",
      "├── prod\r\n",
      "├── test\r\n",
      "└── untitled.txt\r\n",
      "\r\n",
      "1 directory, 8 files\r\n"
     ]
    }
   ],
   "source": [
    "!mkdir -p group_vars\n",
    "!touch group_vars/all \n",
    "!tree \n",
    "\n"
   ]
  },
  {
   "cell_type": "markdown",
   "metadata": {},
   "source": [
    "If you have different inventories, you can store different set of variable in custom files.\n",
    "The `all` ones will be shared between all inventories\n",
    "\n",
    "Exercise: \n",
    "    \n",
    "  - [click here to edit](/edit/notebooks/exercise-04/group_vars/all) move all common variables from inventory to all"
   ]
  },
  {
   "cell_type": "markdown",
   "metadata": {},
   "source": [
    "Inventory variables can store almost everything and even describe the architecture of your deployment\n"
   ]
  },
  {
   "cell_type": "code",
   "execution_count": 25,
   "metadata": {},
   "outputs": [
    {
     "name": "stdout",
     "output_type": "stream",
     "text": [
      "---\r\n",
      "# This is an inventory variable example.\r\n",
      "\r\n",
      "# Basic variables can be strings..\r\n",
      "java_version: 1.8.0_131\r\n",
      "http_proxy: \"http://172.17.0.1:3128\"           # ...strings with quotes\r\n",
      "\r\n",
      "# .. numbers\r\n",
      "timestamp: 20170501\r\n",
      "default_int: 0\r\n",
      "\r\n",
      "# boolean (see http://yaml.org/type/bool.html)\r\n",
      "enable_selinux: \"yes\"\r\n",
      "enable_feature: \"True\"\r\n",
      "\r\n",
      "#\r\n",
      "# But you can have\r\n",
      "#\r\n",
      "\r\n",
      "a_list:\r\n",
      "  - curl\r\n",
      "  - wget\r\n",
      "\r\n",
      "a_map:\r\n",
      "  name: /etc/hosts\r\n",
      "  mode: 0644\r\n",
      "\r\n",
      "a_list_of_map:\r\n",
      "  - name: /etc/hosts\r\n",
      "    mode: 0644\r\n",
      "  - name: /etc/shadow\r\n",
      "    mode: 0000\r\n"
     ]
    }
   ],
   "source": [
    "!cat group_vars/example"
   ]
  },
  {
   "cell_type": "markdown",
   "metadata": {},
   "source": [
    "We can even mix and mojo `group_vars` and `inventory`, as we'll see in the next lessons.\n",
    "\n",
    "\n",
    "\n"
   ]
  }
 ],
 "metadata": {
  "kernelspec": {
   "display_name": "Python 2",
   "language": "python",
   "name": "python2"
  },
  "language_info": {
   "codemirror_mode": {
    "name": "ipython",
    "version": 2
   },
   "file_extension": ".py",
   "mimetype": "text/x-python",
   "name": "python",
   "nbconvert_exporter": "python",
   "pygments_lexer": "ipython2",
   "version": "2.7.11"
  }
 },
 "nbformat": 4,
 "nbformat_minor": 2
}
