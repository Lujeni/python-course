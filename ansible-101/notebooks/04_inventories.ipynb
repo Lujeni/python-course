{
 "cells": [
  {
   "cell_type": "markdown",
   "metadata": {},
   "source": [
    "# Inventories\n",
    "\n",
    "Inventories are a fundamental doc entrypoint for our infrastructures. \n",
    "\n",
    "They contain a lot of informations, including:\n",
    "    \n",
    "    - ansible_user\n",
    "    - configuration variables\n",
    "    - host grouping eg. by geographical zones\n",
    "    \n",
    "    "
   ]
  },
  {
   "cell_type": "code",
   "execution_count": null,
   "metadata": {
    "collapsed": true
   },
   "outputs": [],
   "source": []
  },
  {
   "cell_type": "code",
   "execution_count": 1,
   "metadata": {},
   "outputs": [
    {
     "name": "stdout",
     "output_type": "stream",
     "text": [
      "/notebooks/exercise-04\n"
     ]
    }
   ],
   "source": [
    "cd exercise-04"
   ]
  },
  {
   "cell_type": "code",
   "execution_count": 5,
   "metadata": {},
   "outputs": [
    {
     "name": "stdout",
     "output_type": "stream",
     "text": [
      "# I can group hosts in inventory\r\n",
      "\r\n",
      "[web:children]\r\n",
      "web_rome\r\n",
      "web_milan\r\n",
      "\r\n",
      "[web_rome:children]\r\n",
      "web_rome_test\r\n",
      "web_rome_prod\r\n",
      "\r\n",
      "# further host variables\r\n",
      "[web_rome:vars]\r\n",
      "ansible_username=root \r\n",
      "\r\n",
      "# Connect with docker \r\n",
      "[web_rome_test:vars]\r\n",
      "ansible_connection=docker\r\n",
      "ansible_docker_extra_args: \" -H=tcp://172.17.0.1:2375 \"\r\n",
      "\r\n",
      "\r\n",
      "\r\n",
      "# The actual host reference\r\n",
      "[web_rome_test]\r\n",
      "ansible101_web_1\r\n",
      "\r\n",
      "\r\n",
      "[web_rome_prod]\r\n",
      "172.23.0.[3:4]\r\n",
      "\r\n",
      "[web_milan]\r\n",
      "172.24.0.[5:6]\r\n"
     ]
    }
   ],
   "source": [
    "!cat inventory"
   ]
  },
  {
   "cell_type": "code",
   "execution_count": 10,
   "metadata": {},
   "outputs": [
    {
     "name": "stdout",
     "output_type": "stream",
     "text": [
      "\u001b[0;32mansible101_web_1 | SUCCESS => {\u001b[0m\n",
      "\u001b[0;32m    \"changed\": false, \u001b[0m\n",
      "\u001b[0;32m    \"ping\": \"pong\"\u001b[0m\n",
      "\u001b[0;32m}\u001b[0m\n",
      "\u001b[1;31m172.24.0.6 | UNREACHABLE! => {\u001b[0m\n",
      "\u001b[1;31m    \"changed\": false, \u001b[0m\n",
      "\u001b[1;31m    \"msg\": \"Failed to connect to the host via ssh: ssh: connect to host 172.24.0.6 port 22: Connection timed out\\r\\n\", \u001b[0m\n",
      "\u001b[1;31m    \"unreachable\": true\u001b[0m\n",
      "\u001b[1;31m}\u001b[0m\n",
      "\u001b[1;31m172.23.0.3 | UNREACHABLE! => {\u001b[0m\n",
      "\u001b[1;31m    \"changed\": false, \u001b[0m\n",
      "\u001b[1;31m    \"msg\": \"Failed to connect to the host via ssh: ssh: connect to host 172.23.0.3 port 22: Connection timed out\\r\\n\", \u001b[0m\n",
      "\u001b[1;31m    \"unreachable\": true\u001b[0m\n",
      "\u001b[1;31m}\u001b[0m\n",
      "\u001b[1;31m172.24.0.5 | UNREACHABLE! => {\u001b[0m\n",
      "\u001b[1;31m    \"changed\": false, \u001b[0m\n",
      "\u001b[1;31m    \"msg\": \"Failed to connect to the host via ssh: ssh: connect to host 172.24.0.5 port 22: Connection timed out\\r\\n\", \u001b[0m\n",
      "\u001b[1;31m    \"unreachable\": true\u001b[0m\n",
      "\u001b[1;31m}\u001b[0m\n",
      "\u001b[1;31m172.23.0.4 | UNREACHABLE! => {\u001b[0m\n",
      "\u001b[1;31m    \"changed\": false, \u001b[0m\n",
      "\u001b[1;31m    \"msg\": \"Failed to connect to the host via ssh: ssh: connect to host 172.23.0.4 port 22: Connection timed out\\r\\n\", \u001b[0m\n",
      "\u001b[1;31m    \"unreachable\": true\u001b[0m\n",
      "\u001b[1;31m}\u001b[0m\n"
     ]
    }
   ],
   "source": [
    "!ansible -m ping -i inventory all\n"
   ]
  },
  {
   "cell_type": "code",
   "execution_count": 22,
   "metadata": {},
   "outputs": [
    {
     "name": "stdout",
     "output_type": "stream",
     "text": [
      "inventory = inventory-docker.py\r\n"
     ]
    }
   ],
   "source": [
    "#To create custom inventory scripts just use python ;) and set it in\n",
    "\n",
    "!grep inventory  ansible.cfg #inventory = ./docker-inventory.py\n"
   ]
  },
  {
   "cell_type": "code",
   "execution_count": 11,
   "metadata": {
    "collapsed": true
   },
   "outputs": [],
   "source": [
    "# Exercise: in the official ansible documentation find at least 3 `ansible_connection=docker` parameters "
   ]
  },
  {
   "cell_type": "code",
   "execution_count": 26,
   "metadata": {},
   "outputs": [
    {
     "name": "stdout",
     "output_type": "stream",
     "text": [
      "ansible101_web_6\t\tweb\t\t172.17.0.9\n",
      "ansible101_web_3\t\tweb\t\t172.17.0.8\n",
      "ansible101_web_4\t\tweb\t\t172.17.0.7\n",
      "ansible101_web_5\t\tweb\t\t172.17.0.6\n",
      "ansible101_ansible_1\t\tansible\t\t172.17.0.5\n",
      "ansible101_web_2\t\tweb\t\t172.17.0.4\n",
      "ansible101_web_1\t\tweb\t\t172.17.0.3\n",
      "ansible101_dev_1\t\tdev\t\t172.17.0.2\n"
     ]
    }
   ],
   "source": [
    "# List our containers. Note: this only works with docker-compose containers.\n",
    "from __future__ import print_function\n",
    "import docker\n",
    "c=docker.Client(base_url=\"http://172.17.0.1:2375\")\n",
    "container_fmt = lambda x: (\n",
    "    x['Names'][0][1:],\n",
    "    x['Labels']['com.docker.compose.service'], \n",
    "    x['NetworkSettings']['Networks']['bridge']['IPAddress'],\n",
    ")\n",
    "\n",
    "for x in c.containers():\n",
    "    print(*container_fmt(x), sep='\\t\\t')"
   ]
  },
  {
   "cell_type": "code",
   "execution_count": 34,
   "metadata": {},
   "outputs": [
    {
     "name": "stdout",
     "output_type": "stream",
     "text": [
      "{\n",
      " \"web\": {\n",
      "  \"hosts\": [\n",
      "   \"ws-1\", \n",
      "   \"ws-2\"\n",
      "  ]\n",
      " }, \n",
      " \"db\": {\n",
      "  \"hosts\": [\n",
      "   \"db-1\", \n",
      "   \"db-2\"\n",
      "  ]\n",
      " }\n",
      "}\n"
     ]
    }
   ],
   "source": [
    "# Ansible accepts\n",
    "import json\n",
    "\n",
    "inventories = {\n",
    "    'web': {\n",
    "        'hosts': ['ws-1', 'ws-2'],\n",
    "    },\n",
    "    'db': {\n",
    "        'hosts': ['db-1', 'db-2'],\n",
    "    }\n",
    "}\n",
    "\n",
    "# like this \n",
    "print(json.dumps(inventories, indent=1))\n",
    "      "
   ]
  },
  {
   "cell_type": "code",
   "execution_count": 35,
   "metadata": {},
   "outputs": [
    {
     "name": "stdout",
     "output_type": "stream",
     "text": [
      "{\n",
      " \"web\": {\n",
      "  \"hosts\": [\n",
      "   \"ws-1\", \n",
      "   \"ws-2\"\n",
      "  ], \n",
      "  \"host_vars\": {\n",
      "   \"ansible_ssh_common_args\": \" -o GSSApiAuthentication=no\"\n",
      "  }\n",
      " }, \n",
      " \"db\": {\n",
      "  \"hosts\": [\n",
      "   \"db-1\", \n",
      "   \"db-2\"\n",
      "  ]\n",
      " }\n",
      "}\n"
     ]
    }
   ],
   "source": [
    "# You can pass variables to generated inventories too\n",
    "inventories['web']['host_vars'] = {\n",
    "    'ansible_ssh_common_args': ' -o GSSApiAuthentication=no'\n",
    "}\n",
    "\n",
    "print(json.dumps(inventories, indent=1))\n"
   ]
  },
  {
   "cell_type": "code",
   "execution_count": 40,
   "metadata": {
    "collapsed": true
   },
   "outputs": [],
   "source": [
    "# Exercise: using the above code, create a custom inventory-docker.py that\n",
    "# - connects via docker to \"web\" hosts\n",
    "# - connects via ssh to \"ansible\" hosts \n",
    "\n"
   ]
  },
  {
   "cell_type": "code",
   "execution_count": 12,
   "metadata": {},
   "outputs": [
    {
     "name": "stdout",
     "output_type": "stream",
     "text": [
      "\u001b[0;31mERROR! Attempted to execute \"inventory-docker.py\" as inventory script: Inventory script (inventory-docker.py) had an execution error: DEBUG:docker.auth.auth:Trying paths: ['/root/.docker/config.json', '/root/.dockercfg']\u001b[0m\r\n",
      "\u001b[0;31mDEBUG:docker.auth.auth:No config file found\u001b[0m\r\n",
      "\u001b[0;31mDEBUG:urllib3.connectionpool:Starting new HTTP connection (1): 172.17.0.1\u001b[0m\r\n",
      "\u001b[0;31mDEBUG:urllib3.connectionpool:http://172.17.0.1:2375 \"GET /v1.24/containers/json?all=0&limit=-1&trunc_cmd=0&size=0 HTTP/1.1\" 200 None\u001b[0m\r\n",
      "\u001b[0;31mDEBUG:root:Processing entry u'ansible101_dev_1\\t\\tdev\\t\\t172.17.0.2'\u001b[0m\r\n",
      "\u001b[0;31mDEBUG:root:Processing entry u'ansible101_ansible_1\\t\\tansible\\t\\t172.17.0.5'\u001b[0m\r\n",
      "\u001b[0;31mDEBUG:root:Processing entry u'ansible101_web_2\\t\\tweb\\t\\t172.17.0.4'\u001b[0m\r\n",
      "\u001b[0;31mDEBUG:root:Processing entry u'ansible101_web_1\\t\\tweb\\t\\t172.17.0.3'\u001b[0m\r\n",
      "\u001b[0;31mTraceback (most recent call last):\u001b[0m\r\n",
      "\u001b[0;31m  File \"/notebooks/exercise-04/inventory-docker.py\", line 25, in <module>\u001b[0m\r\n",
      "\u001b[0;31m    inventory['web']['ansible_ssh_common_args'] = ' -o StrictHostKeyChecking=no '\u001b[0m\r\n",
      "\u001b[0;31mTypeError: list indices must be integers, not str\u001b[0m\r\n",
      "\u001b[0;31m \u001b[0m\r\n"
     ]
    }
   ],
   "source": [
    "# Test our custom inventory-docker.py file\n",
    "!ansible -m ping -i inventory-docker.py all --limit ansible\n"
   ]
  },
  {
   "cell_type": "code",
   "execution_count": null,
   "metadata": {
    "collapsed": true
   },
   "outputs": [],
   "source": [
    "# Now modify the inventory-docker.py to skip StrictHostKeyChecking only on web hosts."
   ]
  },
  {
   "cell_type": "markdown",
   "metadata": {},
   "source": [
    "# Configurations\n",
    "\n",
    "You may want to split inventory files and separate prod and test environment."
   ]
  },
  {
   "cell_type": "markdown",
   "metadata": {},
   "source": [
    "Exercise: use this cell to split inventory in two inventory files:\n",
    "\n",
    "  - [click here](/edit/notebooks/exercise-04/prod) prod for production servers \n",
    "  - [click here](/edit/notebooks/exercise-04/test) test for test servers\n",
    "  \n",
    "  "
   ]
  },
  {
   "cell_type": "code",
   "execution_count": 23,
   "metadata": {
    "collapsed": true
   },
   "outputs": [],
   "source": [
    "!ansible -i prod -m ping all\n",
    "!ansible -i test -m ping all"
   ]
  },
  {
   "cell_type": "markdown",
   "metadata": {},
   "source": [
    "## group_vars\n",
    "You can move variables out of inventories - eg to simplify inventory scripts - and store them in files under"
   ]
  },
  {
   "cell_type": "code",
   "execution_count": 24,
   "metadata": {},
   "outputs": [
    {
     "name": "stdout",
     "output_type": "stream",
     "text": [
      ".\r\n",
      "├── ansible.cfg\r\n",
      "├── group_vars\r\n",
      "│   ├── all\r\n",
      "│   └── example\r\n",
      "├── inventory\r\n",
      "├── inventory-docker.py\r\n",
      "├── prod\r\n",
      "├── test\r\n",
      "└── untitled.txt\r\n",
      "\r\n",
      "1 directory, 8 files\r\n"
     ]
    }
   ],
   "source": [
    "!mkdir -p group_vars\n",
    "!touch group_vars/all \n",
    "!tree \n",
    "\n"
   ]
  },
  {
   "cell_type": "markdown",
   "metadata": {},
   "source": [
    "If you have different inventories, you can store different set of variable in custom files.\n",
    "The `all` ones will be shared between all inventories\n",
    "\n",
    "Exercise: \n",
    "    \n",
    "  - [click here to edit](/edit/notebooks/exercise-04/group_vars/all) move all common variables from inventory to all"
   ]
  },
  {
   "cell_type": "markdown",
   "metadata": {},
   "source": [
    "Inventory variables can store almost everything and even describe the architecture of your deployment\n"
   ]
  },
  {
   "cell_type": "code",
   "execution_count": 25,
   "metadata": {},
   "outputs": [
    {
     "name": "stdout",
     "output_type": "stream",
     "text": [
      "---\r\n",
      "# This is an inventory variable example.\r\n",
      "\r\n",
      "# Basic variables can be strings..\r\n",
      "java_version: 1.8.0_131\r\n",
      "http_proxy: \"http://172.17.0.1:3128\"           # ...strings with quotes\r\n",
      "\r\n",
      "# .. numbers\r\n",
      "timestamp: 20170501\r\n",
      "default_int: 0\r\n",
      "\r\n",
      "# boolean (see http://yaml.org/type/bool.html)\r\n",
      "enable_selinux: \"yes\"\r\n",
      "enable_feature: \"True\"\r\n",
      "\r\n",
      "#\r\n",
      "# But you can have\r\n",
      "#\r\n",
      "\r\n",
      "a_list:\r\n",
      "  - curl\r\n",
      "  - wget\r\n",
      "\r\n",
      "a_map:\r\n",
      "  name: /etc/hosts\r\n",
      "  mode: 0644\r\n",
      "\r\n",
      "a_list_of_map:\r\n",
      "  - name: /etc/hosts\r\n",
      "    mode: 0644\r\n",
      "  - name: /etc/shadow\r\n",
      "    mode: 0000\r\n"
     ]
    }
   ],
   "source": [
    "!cat group_vars/example"
   ]
  },
  {
   "cell_type": "code",
   "execution_count": null,
   "metadata": {
    "collapsed": true
   },
   "outputs": [],
   "source": []
  },
  {
   "cell_type": "code",
   "execution_count": null,
   "metadata": {
    "collapsed": true
   },
   "outputs": [],
   "source": []
  },
  {
   "cell_type": "code",
   "execution_count": null,
   "metadata": {
    "collapsed": true
   },
   "outputs": [],
   "source": []
  },
  {
   "cell_type": "markdown",
   "metadata": {},
   "source": [
    "```\n",
    "mongo_nodes_f: >\n",
    "          {{mongo_setup.members\n",
    "          |selectattr(\"arbiterOnly\", \"equalto\", false )\n",
    "          |selectattr(\"hidden\", \"equalto\", false )\n",
    "          |map(attribute=\"host\")\n",
    "          |list\n",
    "          }}\n",
    "mongo_uri_f: mongodb://{{mongo_credentials}}@{{mongo_nodes_f|join(\",\")}}/legrec?replicaSet={{mongo_setup._id}}\n",
    "```"
   ]
  }
 ],
 "metadata": {
  "kernelspec": {
   "display_name": "Python 2",
   "language": "python",
   "name": "python2"
  },
  "language_info": {
   "codemirror_mode": {
    "name": "ipython",
    "version": 2
   },
   "file_extension": ".py",
   "mimetype": "text/x-python",
   "name": "python",
   "nbconvert_exporter": "python",
   "pygments_lexer": "ipython2",
   "version": "2.7.11"
  }
 },
 "nbformat": 4,
 "nbformat_minor": 2
}
