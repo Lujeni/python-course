{
 "cells": [
  {
   "cell_type": "markdown",
   "metadata": {},
   "source": [
    "# Delivery Layout\n",
    "\n",
    "When you deliver something you'll probably have a layout:\n",
    "\n",
    "  - a static or dynamic inventory of all the nodes to manage\n",
    "  - ssh keys to use\n",
    "  - users and secrets to connect to the hosts\n",
    "  - whether to do privilege escalation (eg. sudo, ...) before running tasks\n",
    "  - if nodes should be accessed via a bastion host, docker, ...\n",
    "  \n",
    "Put those informations, together with a brief description of the playbook usage (eg. 2/3 lines) into ansible.cfg\n",
    "\n",
    "\n"
   ]
  },
  {
   "cell_type": "code",
   "execution_count": 4,
   "metadata": {
    "collapsed": true
   },
   "outputs": [],
   "source": [
    "## Simple delivery layout"
   ]
  },
  {
   "cell_type": "code",
   "execution_count": 3,
   "metadata": {},
   "outputs": [
    {
     "name": "stdout",
     "output_type": "stream",
     "text": [
      "/notebooks/notebooks/ansible\n"
     ]
    }
   ],
   "source": [
    "cd ansible"
   ]
  },
  {
   "cell_type": "code",
   "execution_count": 2,
   "metadata": {},
   "outputs": [
    {
     "name": "stdout",
     "output_type": "stream",
     "text": [
      "cat: ansible.cfg: No such file or directory\r\n"
     ]
    }
   ],
   "source": [
    "# When running ansibel, the first file to be read is\n",
    "!cat ansible.cfg"
   ]
  },
  {
   "cell_type": "code",
   "execution_count": 5,
   "metadata": {},
   "outputs": [
    {
     "name": "stdout",
     "output_type": "stream",
     "text": [
      "\u001b[0;32mpythonforsysadmin_course_1 | SUCCESS => {\n",
      "    \"changed\": false, \n",
      "    \"ping\": \"pong\"\n",
      "}\u001b[0m\n",
      "\u001b[1;31m172.17.0.5 | UNREACHABLE! => {\n",
      "    \"changed\": false, \n",
      "    \"msg\": \"Failed to connect to the host via ssh.\", \n",
      "    \"unreachable\": true\n",
      "}\u001b[0m\n",
      "\u001b[1;31m172.17.0.6 | UNREACHABLE! => {\n",
      "    \"changed\": false, \n",
      "    \"msg\": \"Failed to connect to the host via ssh.\", \n",
      "    \"unreachable\": true\n",
      "}\u001b[0m\n",
      "\u001b[1;31m172.17.0.7 | UNREACHABLE! => {\n",
      "    \"changed\": false, \n",
      "    \"msg\": \"Failed to connect to the host via ssh.\", \n",
      "    \"unreachable\": true\n",
      "}\u001b[0m\n",
      "# Always use ansible.cfg and inventory files to \n",
      "# define our inventory file or ansible defaults\n",
      "#inventory = inventory\n",
      "\u001b[1;35m [WARNING]: Host file not found: /etc/ansible/hosts\n",
      "\u001b[0m\n",
      "\u001b[1;35m [WARNING]: provided hosts list is empty, only localhost is available\n",
      "\u001b[0m\n",
      "\u001b[0;32mpythonforsysadmin_course_1 | SUCCESS => {\n",
      "    \"changed\": false, \n",
      "    \"ping\": \"pong\"\n",
      "}\u001b[0m\n",
      "\u001b[1;31m172.17.0.5 | UNREACHABLE! => {\n",
      "    \"changed\": false, \n",
      "    \"msg\": \"Failed to connect to the host via ssh.\", \n",
      "    \"unreachable\": true\n",
      "}\u001b[0m\n",
      "\u001b[1;31m172.17.0.6 | UNREACHABLE! => {\n",
      "    \"changed\": false, \n",
      "    \"msg\": \"Failed to connect to the host via ssh.\", \n",
      "    \"unreachable\": true\n",
      "}\u001b[0m\n",
      "\u001b[1;31m172.17.0.7 | UNREACHABLE! => {\n",
      "    \"changed\": false, \n",
      "    \"msg\": \"Failed to connect to the host via ssh.\", \n",
      "    \"unreachable\": true\n",
      "}\u001b[0m\n"
     ]
    }
   ],
   "source": [
    "# Exercise 1\n",
    "# - ping all hosts without specifying an inventory file\n",
    "# - comment the \"inventory\" line out of ansible.cfg\n",
    "# - try to ping then again\n",
    "!ansible -m ping all\n",
    "!sed -i 's/^inventory/#inventory/' ansible.cfg\n",
    "!grep inventory ansible.cfg\n",
    "!ansible -m ping all\n",
    "!sed -i 's/#inventory/inventory/' ansible.cfg\n",
    "!ansible -m ping all\n",
    "\n"
   ]
  },
  {
   "cell_type": "markdown",
   "metadata": {},
   "source": [
    "## authentication\n",
    "\n",
    "You can manage machines via `ssh` or `docker`, but what happens if `PermitRootLogin=no`?\n",
    "\n",
    "Just use\n",
    "```\n",
    "become: yes\n",
    "become_user: root\n",
    "become_method: sudo  # defaults to sudo\n",
    "```\n",
    "\n",
    "You can even specify which ssh key to use.\n",
    "\n"
   ]
  },
  {
   "cell_type": "markdown",
   "metadata": {},
   "source": [
    "## Inventory\n",
    "\n",
    "The inventory contains the infrastructure host. Maintaining an inventory helps to:\n",
    "\n",
    "  - clearly state each host and its functionalities\n",
    "  - communicate to others all the involved machines\n",
    "  - describe the infrastructure\n",
    "\n",
    "Via `ansible.cfg` you can set a default inventory. You could  eg. default to staging  and require `-i production` to run on actual machines.\n",
    "\n",
    "Ansible supports dynamic inventories (ldap, script, ..) [see chapter]"
   ]
  },
  {
   "cell_type": "markdown",
   "metadata": {
    "collapsed": true
   },
   "source": [
    "## Encrypt secrets\n",
    "\n",
    "You can use and deliver secrets in your infrastructure using an encrypted file (aka vault).\n",
    "\n",
    "Decryption password can be typed each time or can be stored in a pin file configured in `ansible.cfg`.\n",
    "\n",
    "REMEMBER: clear your pin file at logout ;) "
   ]
  },
  {
   "cell_type": "markdown",
   "metadata": {},
   "source": [
    "## Bastion\n",
    "\n",
    "A bastion host is the unique management   entrypoint  for an infrastructure.\n",
    "\n",
    "![title](https://cloud.google.com/solutions/images/bastion.png)\n",
    "    \n",
    "Ansible *leverages ssh functionalities* to manage resources from your local machine thru a bastion.\n",
    "With a proper configuration you can run your commands/playbooks without continusly moving files to and fro your bastion.\n",
    "\n",
    "Those includes:\n",
    " \n",
    "  - socks \n",
    "  - local and reverse tunnels (ssh -L | -R )\n",
    "  "
   ]
  },
  {
   "cell_type": "code",
   "execution_count": null,
   "metadata": {
    "collapsed": true
   },
   "outputs": [],
   "source": []
  }
 ],
 "metadata": {
  "kernelspec": {
   "display_name": "Python 2",
   "language": "python",
   "name": "python2"
  },
  "language_info": {
   "codemirror_mode": {
    "name": "ipython",
    "version": 2
   },
   "file_extension": ".py",
   "mimetype": "text/x-python",
   "name": "python",
   "nbconvert_exporter": "python",
   "pygments_lexer": "ipython2",
   "version": "2.7.11"
  }
 },
 "nbformat": 4,
 "nbformat_minor": 1
}
