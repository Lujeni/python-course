{
 "cells": [
  {
   "cell_type": "markdown",
   "metadata": {},
   "source": [
    "# Delivery Layout\n",
    "\n",
    "When you deliver something you'll probably have a layout:\n",
    "\n",
    "  - a static or dynamic inventory of all the nodes to manage\n",
    "  - ssh keys to use\n",
    "  - users and secrets to connect to the hosts\n",
    "  - whether to do privilege escalation (eg. sudo, ...) before running tasks\n",
    "  - if nodes should be accessed via a bastion host, docker, ...\n",
    "  \n",
    "Put those informations, together with a brief description of the playbook usage (eg. 2/3 lines) into ansible.cfg\n",
    "\n",
    "![delivery layout](https://cdn.pbrd.co/images/39e3p1vlg.png)\n"
   ]
  },
  {
   "cell_type": "code",
   "execution_count": 1,
   "metadata": {
    "code_folding": [],
    "collapsed": true
   },
   "outputs": [],
   "source": [
    "## Simple delivery layout"
   ]
  },
  {
   "cell_type": "code",
   "execution_count": 8,
   "metadata": {},
   "outputs": [
    {
     "name": "stdout",
     "output_type": "stream",
     "text": [
      "[Errno 2] No such file or directory: 'exercise-00'\n",
      "/notebooks/exercise-00\n"
     ]
    }
   ],
   "source": [
    "cd exercise-00"
   ]
  },
  {
   "cell_type": "markdown",
   "metadata": {},
   "source": [
    "# ansible.cfg\n",
    "\n",
    "When running ansible, the first file read is ansible.cfg, resolved in the following order:\n",
    "\n",
    "  - `ANSIBLE_CONFIG` (env var)\n",
    "  - `./ansible.cfg` (in the current directory)\n",
    "  - `~.ansible.cfg` (in the home directory)\n",
    "  - `/etc/ansible/ansible.cfg`\n",
    "\n",
    "We'll create a new ansible.cfg for every project!"
   ]
  },
  {
   "cell_type": "code",
   "execution_count": 3,
   "metadata": {},
   "outputs": [
    {
     "name": "stdout",
     "output_type": "stream",
     "text": [
      "#\r\n",
      "# Always use ansible.cfg and inventory files to \r\n",
      "#  describe your deployment! \r\n",
      "#\r\n",
      "# This will save time and helps your colleagues to\r\n",
      "#  keep in touch with the environment.\r\n",
      "#\r\n",
      "[defaults]\r\n",
      "# define our inventory file or ansible defaults\r\n",
      "#  to /etc/ansible/hosts.\r\n",
      "inventory = inventory\r\n",
      "\r\n",
      "# It's just for testing purposes (or if you're on a secure cloud)\r\n",
      "#  you may want to avoid typing yes to all host keys.\r\n",
      "# Once you get host keys, you can comment this out and re-enable\r\n",
      "#  checks.\r\n",
      "host_key_checking = False\r\n",
      "\r\n",
      "# When an ansible plabook fails, it creates a retry file which may\r\n",
      "#  pollute the current directory ;) You can move this out using\r\n",
      "#  further variables\r\n",
      "retry_files_enabled = False\r\n",
      "\r\n",
      "# Search password file in here\r\n",
      "# vault_password_file = ~/.ssh/pin\r\n",
      "\r\n",
      "\r\n",
      "# [ssh_connection]\r\n",
      "# ssh_args = -F ./ssh_config/config -o ControlMaster=auto -o ControlPersist=30m\r\n",
      "# control_path = ./ssh_config/ansible-%%r@%%h:%%p\r\n"
     ]
    }
   ],
   "source": [
    "# When running ansible, the first file to be read is\n",
    "!cat ansible.cfg"
   ]
  },
  {
   "cell_type": "markdown",
   "metadata": {},
   "source": [
    "## Exercise \n",
    "\n",
    " - ping all hosts without specifying an inventory file\n",
    " - comment the \"inventory\" line out of [ansible.cfg](/edit/notebooks/exercise-00/ansible.cfg)\n",
    " - try to ping then again"
   ]
  },
  {
   "cell_type": "code",
   "execution_count": 6,
   "metadata": {
    "collapsed": true
   },
   "outputs": [],
   "source": [
    "# Use this cell for the exercise"
   ]
  },
  {
   "cell_type": "code",
   "execution_count": 9,
   "metadata": {
    "code_folding": [
     0
    ]
   },
   "outputs": [
    {
     "name": "stdout",
     "output_type": "stream",
     "text": [
      "\u001b[1;35m [WARNING]: Host file not found: /etc/ansible/hosts\u001b[0m\r\n",
      "\u001b[1;35m\u001b[0m\r\n",
      "\u001b[1;35m [WARNING]: provided hosts list is empty, only localhost is available\u001b[0m\r\n",
      "\u001b[1;35m\u001b[0m\r\n",
      "\u001b[1;35m [WARNING]: No hosts matched, nothing to do\u001b[0m\r\n",
      "\u001b[1;35m\u001b[0m\r\n"
     ]
    }
   ],
   "source": [
    "# Solution\n",
    "!sed -i 's/^inventory/#inventory/' ansible.cfg\n",
    "!ansible -m ping all\n",
    "!sed -i 's/#inventory/inventory/' ansible.cfg"
   ]
  },
  {
   "cell_type": "markdown",
   "metadata": {},
   "source": [
    "## Exercise\n",
    "\n",
    "You can subscript host groups, eg: `all[0]` is the first host in inventory.\n",
    "\n",
    "  - ping only the first host\n",
    "  - then the second"
   ]
  },
  {
   "cell_type": "code",
   "execution_count": 12,
   "metadata": {
    "code_folding": [
     0
    ]
   },
   "outputs": [
    {
     "name": "stdout",
     "output_type": "stream",
     "text": [
      "\u001b[1;31m172.17.0.5 | UNREACHABLE! => {\u001b[0m\r\n",
      "\u001b[1;31m    \"changed\": false, \u001b[0m\r\n",
      "\u001b[1;31m    \"msg\": \"Failed to connect to the host via ssh: Permission denied (publickey,password).\\r\\n\", \u001b[0m\r\n",
      "\u001b[1;31m    \"unreachable\": true\u001b[0m\r\n",
      "\u001b[1;31m}\u001b[0m\r\n"
     ]
    }
   ],
   "source": [
    "# Solution\n",
    "!ansible -m ping all[1]"
   ]
  },
  {
   "cell_type": "code",
   "execution_count": 14,
   "metadata": {},
   "outputs": [],
   "source": [
    "# Exercise\n",
    "# can you find a default ansible.cfg?\n",
    "# if not, have a look at it on your local distro.\n",
    "\n"
   ]
  },
  {
   "cell_type": "markdown",
   "metadata": {},
   "source": [
    "## authentication\n",
    "\n",
    "You can manage machines via `ssh` or `docker`, but what happens if `PermitRootLogin=no`?\n",
    "\n",
    "Just use\n",
    "```\n",
    "become: yes\n",
    "become_user: root\n",
    "become_method: sudo  # defaults to sudo\n",
    "```\n",
    "\n",
    "## Exercise\n",
    "\n",
    "You can specify which ssh key to use: \n",
    "\n",
    "  - which parameter allows to set the default ssh identity?\n",
    "\n"
   ]
  },
  {
   "cell_type": "code",
   "execution_count": null,
   "metadata": {
    "code_folding": [],
    "collapsed": true
   },
   "outputs": [],
   "source": []
  },
  {
   "cell_type": "markdown",
   "metadata": {},
   "source": [
    "## Inventory\n",
    "\n",
    "The inventory contains the infrastructure host. Maintaining an inventory helps to:\n",
    "\n",
    "  - clearly state each host and its functionalities\n",
    "  - communicate to others all the involved machines\n",
    "  - describe the infrastructure\n",
    "\n",
    "Via `ansible.cfg` you can set a default inventory. You could  eg. default to staging  and require `-i production` to run on actual machines.\n",
    "\n",
    "Ansible supports dynamic inventories (ldap, script, ..) [see inventory chapter](/notebooks/notebooks/04_inventories.ipynb)"
   ]
  },
  {
   "cell_type": "markdown",
   "metadata": {
    "collapsed": true
   },
   "source": [
    "## Encrypt secrets\n",
    "\n",
    "You can use and deliver secrets in your infrastructure using an encrypted file (aka vault).\n",
    "\n",
    "Decryption password can be typed each time or can be stored in a pin file configured in `ansible.cfg`.\n",
    "\n",
    "REMEMBER: clear your pin file at logout ;) "
   ]
  },
  {
   "cell_type": "markdown",
   "metadata": {},
   "source": [
    "## Bastion\n",
    "\n",
    "A bastion host is the unique management   entrypoint  for an infrastructure.\n",
    "\n",
    "![title](https://cloud.google.com/solutions/images/bastion.png)\n",
    "    \n",
    "Ansible *leverages ssh functionalities* to manage resources from your local machine thru a bastion.\n",
    "With a proper configuration you can run your commands/playbooks without continusly moving files to and fro your bastion.\n",
    "\n",
    "Those includes:\n",
    " \n",
    "  - socks \n",
    "  - local and reverse tunnels (ssh -L | -R )\n",
    "  "
   ]
  },
  {
   "cell_type": "code",
   "execution_count": null,
   "metadata": {
    "collapsed": true
   },
   "outputs": [],
   "source": []
  }
 ],
 "metadata": {
  "kernelspec": {
   "display_name": "Python 2",
   "language": "python",
   "name": "python2"
  },
  "language_info": {
   "codemirror_mode": {
    "name": "ipython",
    "version": 2
   },
   "file_extension": ".py",
   "mimetype": "text/x-python",
   "name": "python",
   "nbconvert_exporter": "python",
   "pygments_lexer": "ipython2",
   "version": "2.7.11"
  }
 },
 "nbformat": 4,
 "nbformat_minor": 1
}
