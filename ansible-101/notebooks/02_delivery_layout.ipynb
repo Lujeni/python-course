{
 "metadata": {
  "kernelspec": {
   "display_name": "Python 2",
   "language": "python",
   "name": "python2"
  },
  "language_info": {
   "codemirror_mode": {
    "name": "ipython",
    "version": 2
   },
   "file_extension": ".py",
   "mimetype": "text/x-python",
   "name": "python",
   "nbconvert_exporter": "python",
   "pygments_lexer": "ipython2",
   "version": "2.7.11"
  },
  "name": ""
 },
 "nbformat": 3,
 "nbformat_minor": 0,
 "worksheets": [
  {
   "cells": [
    {
     "cell_type": "markdown",
     "metadata": {},
     "source": [
      "# Delivery Layout\n",
      "\n",
      "When you deliver something you'll probably have a layout:\n",
      "\n",
      "  - a static or dynamic inventory of all the nodes to manage\n",
      "  - ssh keys to use\n",
      "  - users and secrets to connect to the hosts\n",
      "  - whether to do privilege escalation (eg. sudo, ...) before running tasks\n",
      "  - if nodes should be accessed via a bastion host, docker, ...\n",
      "  \n",
      "Put those informations, together with a brief description of the playbook usage (eg. 2/3 lines) into ansible.cfg\n",
      "\n",
      "![delivery layout](https://cdn.pbrd.co/images/39e3p1vlg.png)\n"
     ]
    },
    {
     "cell_type": "code",
     "collapsed": true,
     "input": [
      "## Simple delivery layout"
     ],
     "language": "python",
     "metadata": {
      "code_folding": []
     },
     "outputs": [],
     "prompt_number": 1
    },
    {
     "cell_type": "code",
     "collapsed": false,
     "input": [
      "cd exercise-00"
     ],
     "language": "python",
     "metadata": {},
     "outputs": [],
     "prompt_number": 8
    },
    {
     "cell_type": "markdown",
     "metadata": {},
     "source": [
      "# ansible.cfg\n",
      "\n",
      "When running ansible, the first file read is ansible.cfg, resolved in the following order:\n",
      "\n",
      "  - `ANSIBLE_CONFIG` (env var)\n",
      "  - `./ansible.cfg` (in the current directory)\n",
      "  - `~.ansible.cfg` (in the home directory)\n",
      "  - `/etc/ansible/ansible.cfg`\n",
      "\n",
      "We'll create a new ansible.cfg for every project!"
     ]
    },
    {
     "cell_type": "code",
     "collapsed": false,
     "input": [
      "# When running ansible, the first file to be read is\n",
      "!cat ansible.cfg"
     ],
     "language": "python",
     "metadata": {},
     "outputs": [],
     "prompt_number": 3
    },
    {
     "cell_type": "markdown",
     "metadata": {},
     "source": [
      "## Exercise \n",
      "\n",
      " - ping all hosts without specifying an inventory file\n",
      " - comment the \"inventory\" line out of [ansible.cfg](/edit/notebooks/exercise-00/ansible.cfg)\n",
      " - try to ping then again"
     ]
    },
    {
     "cell_type": "code",
     "collapsed": true,
     "input": [
      "# Use this cell for the exercise"
     ],
     "language": "python",
     "metadata": {},
     "outputs": [],
     "prompt_number": 6
    },
    {
     "cell_type": "code",
     "collapsed": false,
     "input": [
      "# Solution\n",
      "!sed -i 's/^inventory/#inventory/' ansible.cfg\n",
      "!ansible -m ping all\n",
      "!sed -i 's/#inventory/inventory/' ansible.cfg"
     ],
     "language": "python",
     "metadata": {
      "code_folding": [
       0
      ]
     },
     "outputs": [],
     "prompt_number": 9
    },
    {
     "cell_type": "markdown",
     "metadata": {},
     "source": [
      "## Exercise\n",
      "\n",
      "You can subscript host groups, eg: `all[0]` is the first host in inventory.\n",
      "\n",
      "  - ping only the first host\n",
      "  - then the second"
     ]
    },
    {
     "cell_type": "code",
     "collapsed": false,
     "input": [
      "# Solution\n",
      "!ansible -m ping all[1]"
     ],
     "language": "python",
     "metadata": {
      "code_folding": [
       0
      ]
     },
     "outputs": [],
     "prompt_number": 12
    },
    {
     "cell_type": "code",
     "collapsed": false,
     "input": [
      "# Exercise\n",
      "# can you find a default ansible.cfg?\n",
      "# if not, have a look at it on your local distro.\n",
      "\n"
     ],
     "language": "python",
     "metadata": {},
     "outputs": [],
     "prompt_number": 14
    },
    {
     "cell_type": "markdown",
     "metadata": {},
     "source": [
      "## authentication\n",
      "\n",
      "You can manage machines via `ssh` or `docker`, but what happens if `PermitRootLogin=no`?\n",
      "\n",
      "Just use\n",
      "```\n",
      "become: yes\n",
      "become_user: root\n",
      "become_method: sudo  # defaults to sudo\n",
      "```\n",
      "\n",
      "## Exercise\n",
      "\n",
      "You can specify which ssh key to use: \n",
      "\n",
      "  - which parameter allows to set the default ssh identity?\n",
      "\n"
     ]
    },
    {
     "cell_type": "code",
     "collapsed": true,
     "input": [],
     "language": "python",
     "metadata": {
      "code_folding": []
     },
     "outputs": [],
     "prompt_number": null
    },
    {
     "cell_type": "markdown",
     "metadata": {},
     "source": [
      "## Inventory\n",
      "\n",
      "The inventory contains the infrastructure host. Maintaining an inventory helps to:\n",
      "\n",
      "  - clearly state each host and its functionalities\n",
      "  - communicate to others all the involved machines\n",
      "  - describe the infrastructure\n",
      "\n",
      "Via `ansible.cfg` you can set a default inventory. You could  eg. default to staging  and require `-i production` to run on actual machines.\n",
      "\n",
      "Ansible supports dynamic inventories (ldap, script, ..) [see inventory chapter](/notebooks/notebooks/04_inventories.ipynb)"
     ]
    },
    {
     "cell_type": "markdown",
     "metadata": {
      "collapsed": true
     },
     "source": [
      "## Encrypt secrets\n",
      "\n",
      "You can use and deliver secrets in your infrastructure using an encrypted file (aka vault).\n",
      "\n",
      "Decryption password can be typed each time or can be stored in a pin file configured in `ansible.cfg`.\n",
      "\n",
      "REMEMBER: clear your pin file at logout ;) "
     ]
    },
    {
     "cell_type": "markdown",
     "metadata": {},
     "source": [
      "## Bastion\n",
      "\n",
      "A bastion host is the unique management   entrypoint  for an infrastructure.\n",
      "\n",
      "![title](https://cloud.google.com/solutions/images/bastion.png)\n",
      "    \n",
      "Ansible *leverages ssh functionalities* to manage resources from your local machine thru a bastion.\n",
      "With a proper configuration you can run your commands/playbooks without continusly moving files to and fro your bastion.\n",
      "\n",
      "Those includes:\n",
      " \n",
      "  - socks \n",
      "  - local and reverse tunnels (ssh -L | -R )\n",
      "  "
     ]
    },
    {
     "cell_type": "code",
     "collapsed": true,
     "input": [],
     "language": "python",
     "metadata": {},
     "outputs": [],
     "prompt_number": null
    }
   ],
   "metadata": {}
  }
 ]
}