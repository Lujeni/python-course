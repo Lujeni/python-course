{
 "cells": [
  {
   "cell_type": "markdown",
   "metadata": {},
   "source": [
    "# Ansible\n",
    "\n",
    "Ansible is a configuration management software.\n",
    "\n",
    "Connects via ssh or docker to a list of inventory machines and executes a series of tasks eventually grouped in playbooks.\n",
    "\n",
    "At first, create an inventory file with all your hosts."
   ]
  },
  {
   "cell_type": "code",
   "execution_count": 1,
   "metadata": {},
   "outputs": [
    {
     "name": "stdout",
     "output_type": "stream",
     "text": [
      "/home/rpolli/babel/python-course/ansible-101/notebooks/ansible\n"
     ]
    }
   ],
   "source": [
    "cd ansible"
   ]
  },
  {
   "cell_type": "code",
   "execution_count": 2,
   "metadata": {},
   "outputs": [
    {
     "name": "stdout",
     "output_type": "stream",
     "text": [
      "#\r\n",
      "# This inventory file contains a list of server to \r\n",
      "#  play with - divided in groups.\r\n",
      "#\r\n",
      "[course]\r\n",
      "# this is the local machine where you run jupyter\r\n",
      "# the tutorial just works with this one.\r\n",
      "pythonforsysadmin_course_1  ansible_connection=local\r\n",
      "\r\n",
      "\r\n",
      "# Another group of servers\r\n",
      "# where we can pass optional arguments\r\n",
      "# Homework: you can play with this group of host\r\n",
      "#  once you exchange ssh-keys between the pythonforsysadmin_course_1\r\n",
      "#  container and the pythonforsysadmin_ansible_* ones._\r\n",
      "[ansible]\r\n",
      "172.17.0.[5:7]   \r\n",
      "\r\n"
     ]
    }
   ],
   "source": [
    "cat inventory"
   ]
  },
  {
   "cell_type": "markdown",
   "metadata": {},
   "source": [
    "Now check if you can ping the local host."
   ]
  },
  {
   "cell_type": "code",
   "execution_count": 3,
   "metadata": {},
   "outputs": [
    {
     "name": "stdout",
     "output_type": "stream",
     "text": [
      "\u001b[0;32mpythonforsysadmin_course_1 | SUCCESS => {\u001b[0m\r\n",
      "\u001b[0;32m    \"changed\": false, \u001b[0m\r\n",
      "\u001b[0;32m    \"ping\": \"pong\"\u001b[0m\r\n",
      "\u001b[0;32m}\u001b[0m\r\n"
     ]
    }
   ],
   "source": [
    "# Check connections versus the local host in the \"course\" group\n",
    "\n",
    "!ansible -i inventory -m ping course"
   ]
  },
  {
   "cell_type": "code",
   "execution_count": 4,
   "metadata": {},
   "outputs": [
    {
     "name": "stdout",
     "output_type": "stream",
     "text": [
      "\u001b[0;32mpythonforsysadmin_course_1 | SUCCESS => {\u001b[0m\n",
      "\u001b[0;32m    \"changed\": false, \u001b[0m\n",
      "\u001b[0;32m    \"ping\": \"pong\"\u001b[0m\n",
      "\u001b[0;32m}\u001b[0m\n",
      "\u001b[1;31m172.17.0.6 | UNREACHABLE! => {\u001b[0m\n",
      "\u001b[1;31m    \"changed\": false, \u001b[0m\n",
      "\u001b[1;31m    \"msg\": \"Failed to connect to the host via ssh: ssh: connect to host 172.17.0.6 port 22: No route to host\\r\\n\", \u001b[0m\n",
      "\u001b[1;31m    \"unreachable\": true\u001b[0m\n",
      "\u001b[1;31m}\u001b[0m\n",
      "\u001b[1;31m172.17.0.7 | UNREACHABLE! => {\u001b[0m\n",
      "\u001b[1;31m    \"changed\": false, \u001b[0m\n",
      "\u001b[1;31m    \"msg\": \"Failed to connect to the host via ssh: ssh: connect to host 172.17.0.7 port 22: No route to host\\r\\n\", \u001b[0m\n",
      "\u001b[1;31m    \"unreachable\": true\u001b[0m\n",
      "\u001b[1;31m}\u001b[0m\n",
      "\u001b[1;31m172.17.0.5 | UNREACHABLE! => {\u001b[0m\n",
      "\u001b[1;31m    \"changed\": false, \u001b[0m\n",
      "\u001b[1;31m    \"msg\": \"Failed to connect to the host via ssh: ssh: connect to host 172.17.0.5 port 22: No route to host\\r\\n\", \u001b[0m\n",
      "\u001b[1;31m    \"unreachable\": true\u001b[0m\n",
      "\u001b[1;31m}\u001b[0m\n"
     ]
    }
   ],
   "source": [
    "# Pinging all hosts gives some errors too, due to missing hosts or no ssh-key exchange\n",
    "!ansible -i inventory -m ping all"
   ]
  },
  {
   "cell_type": "markdown",
   "metadata": {},
   "source": [
    "## Further on inventories"
   ]
  },
  {
   "cell_type": "markdown",
   "metadata": {},
   "source": [
    " You can split your servers in many inventory files, like\n",
    "\n",
    " - staging\n",
    " \n",
    "```\n",
    "# staging inventory file\n",
    "# run with\n",
    "# ansible -i staging ...\n",
    " [ws]\n",
    " staging-ws-[0:3]\n",
    " \n",
    " [jboss]\n",
    " staging-boss-[0:6]\n",
    "```\n",
    " \n",
    " - production\n",
    " \n",
    "```\n",
    "# production inventory file\n",
    "# run with\n",
    "# ansible -i production ...\n",
    " [ws]\n",
    " ws-[0:3]\n",
    " \n",
    " [jboss]\n",
    " boss-[0:6]\n",
    "```\n",
    " \n",
    " "
   ]
  },
  {
   "cell_type": "markdown",
   "metadata": {},
   "source": [
    "# Playbooks\n",
    "\n",
    "To run a group of tasks with ansible, just:\n",
    "\n",
    "  - create a playbook.yml\n",
    "  - run ansible-playbook -i inventory playbook.yml\n",
    "  \n",
    "\n",
    "A playbook is a list of tasks in yml format, something like\n",
    "\n",
    "```\n",
    "#\n",
    "# playbook.yml\n",
    "#\n",
    "- name: All public traffic is redirected via https\n",
    "  uri:\n",
    "    url: http://{{server_host}}/\n",
    "    validate_certs: false\n",
    "    follow_redirects: none\n",
    "    status_code: 301\n",
    "    \n",
    "- name: This webapp  is served\n",
    "  uri:\n",
    "    url: https://{{server_host}}/webapp-1\n",
    "    validate_certs: false\n",
    "    status_code: 200\n",
    "    HEADER_testflag: test\n",
    "\n",
    "- name: The WS is serverd and requires authentication\n",
    "  uri:\n",
    "    url: https://{{server_host}}/rest/v1/method\n",
    "    validate_certs: false\n",
    "    status_code: 401\n",
    "\n",
    "```\n",
    "\n",
    "In this case, instead of making actual installation|setup tasks, we just created a testsuite validating our deployment. Now we must write another playbook which takes care of deployng the actual machine.\n",
    "\n"
   ]
  },
  {
   "cell_type": "markdown",
   "metadata": {},
   "source": [
    "## Testing our course environment\n",
    "\n",
    "We can write a playbook to test our course environment."
   ]
  },
  {
   "cell_type": "code",
   "execution_count": 5,
   "metadata": {},
   "outputs": [
    {
     "name": "stdout",
     "output_type": "stream",
     "text": [
      "# Run this with\r\n",
      "#\r\n",
      "#   #ansible-playbook -i inventory python-course-test.yml\r\n",
      "#\r\n",
      "- hosts: course\r\n",
      "  tasks:\r\n",
      "    - name: The /notebooks directory should exist\r\n",
      "      file: path=\"/notebooks\" state=directory\r\n",
      "\r\n",
      "    - name: jupyter is responding on 8888\r\n",
      "      uri:\r\n",
      "        url: http://0.0.0.0:8888/notebooks\r\n",
      "        validate_certs: false\r\n",
      "        status_code: 200  # modify this line to simulate an error and see the outcome!\r\n",
      "\r\n",
      "    - name: The template.conf is in place\r\n",
      "      file: path=\"/tmp/template.conf\" state=file\r\n"
     ]
    }
   ],
   "source": [
    "!cat python-course-test.yml"
   ]
  },
  {
   "cell_type": "code",
   "execution_count": 6,
   "metadata": {},
   "outputs": [
    {
     "name": "stdout",
     "output_type": "stream",
     "text": [
      "\n",
      "PLAY [course] ******************************************************************\n",
      "\n",
      "TASK [Gathering Facts] *********************************************************\n",
      "\u001b[0;32mok: [pythonforsysadmin_course_1]\u001b[0m\n",
      "\n",
      "TASK [The /notebooks directory should exist] ***********************************\n",
      "\u001b[0;31mfatal: [pythonforsysadmin_course_1]: FAILED! => {\"changed\": false, \"failed\": true, \"msg\": \"There was an issue creating /notebooks as requested: [Errno 13] Permission denied: '/notebooks'\", \"path\": \"/notebooks\", \"state\": \"absent\"}\u001b[0m\n",
      "\tto retry, use: --limit @/home/rpolli/babel/python-course/ansible-101/notebooks/ansible/python-course-test.retry\n",
      "\n",
      "PLAY RECAP *********************************************************************\n",
      "\u001b[0;31mpythonforsysadmin_course_1\u001b[0m : \u001b[0;32mok=1   \u001b[0m changed=0    unreachable=0    \u001b[0;31mfailed=1   \u001b[0m\n",
      "\n"
     ]
    }
   ],
   "source": [
    "!ansible-playbook -i inventory python-course-test.yml "
   ]
  },
  {
   "cell_type": "markdown",
   "metadata": {},
   "source": [
    "As you can see something is missing: this playbook is not going to modify our machine but only test that everything is in place. \n",
    "\n",
    "See ```ansible-playbook --check ``` and ``` --diff ``` for further infos.\n",
    "\n",
    "We can run a setup playbook, conventionally named site.yml.\n"
   ]
  },
  {
   "cell_type": "code",
   "execution_count": 7,
   "metadata": {},
   "outputs": [
    {
     "name": "stdout",
     "output_type": "stream",
     "text": [
      "# Run this with\r\n",
      "#\r\n",
      "#   #ansible-playbook -i inventory site.yml\r\n",
      "#\r\n",
      "- hosts: course\r\n",
      "  tasks:\r\n",
      "    \r\n",
      "    - name: Create a file from a template\r\n",
      "      template: src=mytemplate.j2 dest=/tmp/template.conf\r\n",
      "\r\n",
      "    - name: Ensure needed packages are present and eventually install them\r\n",
      "      apt: name={{item}} state=present\r\n",
      "      with_items:\r\n",
      "        - python\r\n",
      "        - python-dev\r\n",
      "#      ignore_errors: yes  #  ignore errors during the course (eg. connectivity)\r\n",
      "\r\n",
      "\r\n"
     ]
    }
   ],
   "source": [
    "!cat site.yml"
   ]
  },
  {
   "cell_type": "code",
   "execution_count": 8,
   "metadata": {},
   "outputs": [
    {
     "name": "stdout",
     "output_type": "stream",
     "text": [
      "\n",
      "PLAY [course] ******************************************************************\n",
      "\n",
      "TASK [Gathering Facts] *********************************************************\n",
      "\u001b[0;32mok: [pythonforsysadmin_course_1]\u001b[0m\n",
      "\n",
      "TASK [Create a file from a template] *******************************************\n",
      "\u001b[0;33mchanged: [pythonforsysadmin_course_1]\u001b[0m\n",
      "\n",
      "TASK [Ensure needed packages are present and eventually install them] **********\n",
      "\u001b[0;31mfailed: [pythonforsysadmin_course_1] (item=[u'python', u'python-dev']) => {\"cmd\": \"apt-get update\", \"failed\": true, \"item\": [\"python\", \"python-dev\"], \"msg\": \"[Errno 2] No such file or directory\", \"rc\": 2}\u001b[0m\n",
      "\tto retry, use: --limit @/home/rpolli/babel/python-course/ansible-101/notebooks/ansible/site.retry\n",
      "\n",
      "PLAY RECAP *********************************************************************\n",
      "\u001b[0;31mpythonforsysadmin_course_1\u001b[0m : \u001b[0;32mok=2   \u001b[0m \u001b[0;33mchanged=1   \u001b[0m unreachable=0    \u001b[0;31mfailed=1   \u001b[0m\n",
      "\n"
     ]
    }
   ],
   "source": [
    "!ansible-playbook -i inventory site.yml --limit=course  # in this case the --limit does not change anything ;)"
   ]
  }
 ],
 "metadata": {
  "kernelspec": {
   "display_name": "Python 2",
   "language": "python",
   "name": "python2"
  },
  "language_info": {
   "codemirror_mode": {
    "name": "ipython",
    "version": 2
   },
   "file_extension": ".py",
   "mimetype": "text/x-python",
   "name": "python",
   "nbconvert_exporter": "python",
   "pygments_lexer": "ipython2",
   "version": "2.7.11"
  }
 },
 "nbformat": 4,
 "nbformat_minor": 1
}
