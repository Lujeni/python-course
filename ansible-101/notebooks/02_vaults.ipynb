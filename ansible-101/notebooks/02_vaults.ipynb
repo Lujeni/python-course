{
 "cells": [
  {
   "cell_type": "markdown",
   "metadata": {},
   "source": [
    "# My first project \n",
    "\n",
    "When creating a project, we start defining the infrastructure layout via two files:\n",
    "\n",
    "  - ansible.cfg\n",
    "  - inventory\n",
    "  \n",
    "Our current setup is:\n",
    "\n",
    "  - direct access to client machines\n",
    "  - one `inventory` file\n",
    "  - no host_key_check\n",
    "  - no retry files\n",
    "  - client machine username/password is `root:root`\n",
    "  - no pki certificate is installed by default\n",
    "\n"
   ]
  },
  {
   "cell_type": "code",
   "execution_count": 1,
   "metadata": {},
   "outputs": [
    {
     "name": "stdout",
     "output_type": "stream",
     "text": [
      "/notebooks/exercise-01\n"
     ]
    }
   ],
   "source": [
    "cd exercise-01/\n"
   ]
  },
  {
   "cell_type": "markdown",
   "metadata": {},
   "source": [
    "## Preparation\n",
    "\n",
    "The first steps include creating:\n",
    "\n",
    " - all secret files\n",
    " - the deployment descriptor \n",
    " - and the inventory."
   ]
  },
  {
   "cell_type": "code",
   "execution_count": 2,
   "metadata": {},
   "outputs": [],
   "source": [
    "# At first create a proper ssh key for the project\n",
    "\n",
    "! rm -f id_ansible && ssh-keygen -q -t ecdsa -f id_ansible  -N ''\n",
    "\n",
    "# We'll reference this secret"
   ]
  },
  {
   "cell_type": "code",
   "execution_count": 3,
   "metadata": {
    "collapsed": true
   },
   "outputs": [],
   "source": [
    "# Now a `secret` password ;)\n",
    "!echo secret > .pin    "
   ]
  },
  {
   "cell_type": "code",
   "execution_count": 4,
   "metadata": {},
   "outputs": [
    {
     "name": "stdout",
     "output_type": "stream",
     "text": [
      "\r\n",
      "[defaults]\r\n",
      "inventory = inventory\r\n",
      "retry_files_enabled = false\r\n",
      "\r\n",
      "#\r\n",
      "# ssh configs\r\n",
      "#\r\n",
      "host_key_checking = no\r\n",
      "private_key_file = id_ansible\r\n",
      "\r\n",
      "# We want to store root password in an encrypted file\r\n",
      "#  but don't want to be prompted for a password each time\r\n",
      "vault_password_file = .pin\r\n"
     ]
    }
   ],
   "source": [
    "# then prepare a deployment descriptor referencing the .pin file\n",
    "!cat ansible.cfg"
   ]
  },
  {
   "cell_type": "markdown",
   "metadata": {},
   "source": [
    "### Exercise\n",
    "\n",
    " - use ansible docs or the web to comment properly all the [ansible.cfg](/edit/notebooks/exercise-01/ansible.cfg) params"
   ]
  },
  {
   "cell_type": "code",
   "execution_count": 5,
   "metadata": {},
   "outputs": [
    {
     "name": "stdout",
     "output_type": "stream",
     "text": [
      "#\r\n",
      "# This is the inventory file, containing all \r\n",
      "#  ansible hosts.\r\n",
      "#\r\n",
      "# - comments starts with #\r\n",
      "# - variables are between {{ variable_name }}\r\n",
      "#\r\n",
      "[course]\r\n",
      "172.17.0.[2:4] ansible_password={{root_password}}  # load variable from vault\r\n",
      "\r\n"
     ]
    }
   ],
   "source": [
    "# And in the end, the inventory. \n",
    "!cat inventory"
   ]
  },
  {
   "cell_type": "markdown",
   "metadata": {},
   "source": [
    "## Gotta ping 'em all\n",
    "\n",
    "Everything set up now. \n",
    "\n",
    "Ping all hosts now!"
   ]
  },
  {
   "cell_type": "code",
   "execution_count": 6,
   "metadata": {},
   "outputs": [
    {
     "name": "stdout",
     "output_type": "stream",
     "text": [
      "\u001b[0;31m172.17.0.2 | FAILED! => {\u001b[0m\r\n",
      "\u001b[0;31m    \"failed\": true, \u001b[0m\r\n",
      "\u001b[0;31m    \"msg\": \"the field 'password' has an invalid value, which appears to include a variable that is undefined. The error was: 'root_password' is undefined\"\u001b[0m\r\n",
      "\u001b[0;31m}\u001b[0m\r\n",
      "\u001b[0;31m172.17.0.3 | FAILED! => {\u001b[0m\r\n",
      "\u001b[0;31m    \"failed\": true, \u001b[0m\r\n",
      "\u001b[0;31m    \"msg\": \"the field 'password' has an invalid value, which appears to include a variable that is undefined. The error was: 'root_password' is undefined\"\u001b[0m\r\n",
      "\u001b[0;31m}\u001b[0m\r\n",
      "\u001b[0;31m172.17.0.4 | FAILED! => {\u001b[0m\r\n",
      "\u001b[0;31m    \"failed\": true, \u001b[0m\r\n",
      "\u001b[0;31m    \"msg\": \"the field 'password' has an invalid value, which appears to include a variable that is undefined. The error was: 'root_password' is undefined\"\u001b[0m\r\n",
      "\u001b[0;31m}\u001b[0m\r\n"
     ]
    }
   ],
   "source": [
    "# Let's get an error: root_password is UNDEFINED. \n",
    "!ansible -m ping all\n"
   ]
  },
  {
   "cell_type": "markdown",
   "metadata": {},
   "source": [
    "## Vaults\n",
    "\n",
    "We now ensure that everything is encrypted and we're able to connect to some hosts"
   ]
  },
  {
   "cell_type": "code",
   "execution_count": 7,
   "metadata": {
    "collapsed": true
   },
   "outputs": [],
   "source": [
    "# A vault is just a yaml file containing a dictionary of secrets.\n",
    "#  We can put here as many information as we want, but for now\n",
    "#  just put the `root_password`.\n",
    "\n",
    "!echo \"root_password: root\" > vaultfile.yml"
   ]
  },
  {
   "cell_type": "code",
   "execution_count": 8,
   "metadata": {},
   "outputs": [
    {
     "name": "stdout",
     "output_type": "stream",
     "text": [
      "Encryption successful\r\n"
     ]
    }
   ],
   "source": [
    "# We need to encrypt it. \n",
    "!ansible-vault encrypt vaultfile.yml"
   ]
  },
  {
   "cell_type": "markdown",
   "metadata": {},
   "source": [
    "### Exercise\n",
    "\n",
    "  - which secret is used to encrypt vaultfile.yml ?\n",
    "  - where is it specified?"
   ]
  },
  {
   "cell_type": "code",
   "execution_count": 9,
   "metadata": {},
   "outputs": [
    {
     "name": "stdout",
     "output_type": "stream",
     "text": [
      "$ANSIBLE_VAULT;1.1;AES256\r\n",
      "64663531613235373730363064633637666265613136323865636231336338343639646436643633\r\n",
      "3330346539616538633132373032323636313333346630340a393664323964646162623533326163\r\n",
      "35383361386133393637623932306635333963633061313166633032633565636332363830313332\r\n",
      "3834356337373735620a633336623461396266623361333366333039366134616335356334346331\r\n",
      "32636164303337646536623565656632373263623539313163613134633537306131\r\n"
     ]
    }
   ],
   "source": [
    "# And show the anatomy of the vault.\n",
    "!cat vaultfile.yml"
   ]
  },
  {
   "cell_type": "code",
   "execution_count": 10,
   "metadata": {},
   "outputs": [
    {
     "name": "stdout",
     "output_type": "stream",
     "text": [
      "root_password: root\r\n"
     ]
    }
   ],
   "source": [
    "# Can we decrypt it?\n",
    "!ansible-vault view vaultfile.yml"
   ]
  },
  {
   "cell_type": "code",
   "execution_count": 11,
   "metadata": {},
   "outputs": [
    {
     "name": "stdout",
     "output_type": "stream",
     "text": [
      "\u001b[0;32m172.17.0.2 | SUCCESS => {\u001b[0m\n",
      "\u001b[0;32m    \"changed\": false, \u001b[0m\n",
      "\u001b[0;32m    \"ping\": \"pong\"\u001b[0m\n",
      "\u001b[0;32m}\u001b[0m\n",
      "\u001b[0;32m172.17.0.3 | SUCCESS => {\u001b[0m\n",
      "\u001b[0;32m    \"changed\": false, \u001b[0m\n",
      "\u001b[0;32m    \"ping\": \"pong\"\u001b[0m\n",
      "\u001b[0;32m}\u001b[0m\n",
      "\u001b[0;32m172.17.0.4 | SUCCESS => {\u001b[0m\n",
      "\u001b[0;32m    \"changed\": false, \u001b[0m\n",
      "\u001b[0;32m    \"ping\": \"pong\"\u001b[0m\n",
      "\u001b[0;32m}\u001b[0m\n"
     ]
    }
   ],
   "source": [
    "!ansible -m ping all -e@vaultfile.yml\n"
   ]
  },
  {
   "cell_type": "markdown",
   "metadata": {},
   "source": [
    "## Exercise\n",
    "\n",
    "Can you pass the vault password file from the command line?"
   ]
  },
  {
   "cell_type": "markdown",
   "metadata": {},
   "source": [
    "## SSH Authentication\n",
    "\n",
    "We want to switch from password to ssh authentication. Create a playbook to install ssh keys.\n"
   ]
  },
  {
   "cell_type": "code",
   "execution_count": 12,
   "metadata": {},
   "outputs": [
    {
     "name": "stdout",
     "output_type": "stream",
     "text": [
      "\r\n",
      "# Load variables from the following files\r\n",
      "- hosts: course\r\n",
      "  vars_files:\r\n",
      "  - vaultfile.yml\r\n",
      "  tasks:\r\n",
      "  - name: Ensure /root/.ssh is present\r\n",
      "    file: path=/root/.ssh owner=root group=root state=directory\r\n",
      "  - name: Copy there my key\r\n",
      "    copy: src=id_ansible.pub dest=/root/.ssh/authorized_keys mode=0600 owner=root group=root\r\n",
      "    \r\n",
      "    "
     ]
    }
   ],
   "source": [
    "!cat copy-key.yml"
   ]
  },
  {
   "cell_type": "code",
   "execution_count": 13,
   "metadata": {},
   "outputs": [
    {
     "name": "stdout",
     "output_type": "stream",
     "text": [
      "\n",
      "PLAY [course] ******************************************************************\n",
      "\n",
      "TASK [Gathering Facts] *********************************************************\n",
      "\u001b[0;32mok: [172.17.0.3]\u001b[0m\n",
      "\u001b[0;32mok: [172.17.0.4]\u001b[0m\n",
      "\u001b[0;32mok: [172.17.0.2]\u001b[0m\n",
      "\n",
      "TASK [Ensure /root/.ssh is present] ********************************************\n",
      "\u001b[0;32mok: [172.17.0.3]\u001b[0m\n",
      "\u001b[0;32mok: [172.17.0.2]\u001b[0m\n",
      "\u001b[0;32mok: [172.17.0.4]\u001b[0m\n",
      "\n",
      "TASK [Copy there my key] *******************************************************\n",
      "\u001b[0;33mchanged: [172.17.0.3]\u001b[0m\n",
      "\u001b[0;33mchanged: [172.17.0.2]\u001b[0m\n",
      "\u001b[0;32mok: [172.17.0.4]\u001b[0m\n",
      "\n",
      "PLAY RECAP *********************************************************************\n",
      "\u001b[0;33m172.17.0.2\u001b[0m                 : \u001b[0;32mok=3   \u001b[0m \u001b[0;33mchanged=1   \u001b[0m unreachable=0    failed=0   \n",
      "\u001b[0;33m172.17.0.3\u001b[0m                 : \u001b[0;32mok=3   \u001b[0m \u001b[0;33mchanged=1   \u001b[0m unreachable=0    failed=0   \n",
      "\u001b[0;32m172.17.0.4\u001b[0m                 : \u001b[0;32mok=3   \u001b[0m changed=0    unreachable=0    failed=0   \n",
      "\n"
     ]
    }
   ],
   "source": [
    "!ansible-playbook copy-key.yml"
   ]
  },
  {
   "cell_type": "markdown",
   "metadata": {},
   "source": [
    "### Exercise\n",
    "\n",
    "Comment out the ansible_password field  [in `inventory` here](/edit/notebooks/exercise-01/inventory)\n",
    "\n",
    "  - guess the expected output without running ansible\n",
    "  \n",
    "  "
   ]
  },
  {
   "cell_type": "code",
   "execution_count": 15,
   "metadata": {},
   "outputs": [
    {
     "name": "stdout",
     "output_type": "stream",
     "text": [
      "Using /notebooks/exercise-01/ansible.cfg as config file\n",
      "\u001b[0;34mMETA: ran handlers\u001b[0m\n",
      "\u001b[0;34mUsing module file /usr/local/lib/python2.7/site-packages/ansible/modules/system/ping.py\u001b[0m\n",
      "\u001b[0;34m<172.17.0.2> ESTABLISH SSH CONNECTION FOR USER: None\u001b[0m\n",
      "\u001b[0;34mUsing module file /usr/local/lib/python2.7/site-packages/ansible/modules/system/ping.py\u001b[0m\n",
      "\u001b[0;34mUsing module file /usr/local/lib/python2.7/site-packages/ansible/modules/system/ping.py\u001b[0m\n",
      "\u001b[0;34m<172.17.0.4> ESTABLISH SSH CONNECTION FOR USER: None\u001b[0m\n",
      "\u001b[0;34m<172.17.0.3> ESTABLISH SSH CONNECTION FOR USER: None\u001b[0m\n",
      "\u001b[0;34m<172.17.0.4> SSH: EXEC ssh -C -o ControlMaster=auto -o ControlPersist=60s -o StrictHostKeyChecking=no -o 'IdentityFile=\"id_ansible\"' -o KbdInteractiveAuthentication=no -o PreferredAuthentications=gssapi-with-mic,gssapi-keyex,hostbased,publickey -o PasswordAuthentication=no -o ConnectTimeout=10 -o ControlPath=/root/.ansible/cp/64e7c37884 172.17.0.4 '/bin/sh -c '\"'\"'echo ~ && sleep 0'\"'\"''\u001b[0m\n",
      "\u001b[0;34m<172.17.0.2> SSH: EXEC ssh -C -o ControlMaster=auto -o ControlPersist=60s -o StrictHostKeyChecking=no -o 'IdentityFile=\"id_ansible\"' -o KbdInteractiveAuthentication=no -o PreferredAuthentications=gssapi-with-mic,gssapi-keyex,hostbased,publickey -o PasswordAuthentication=no -o ConnectTimeout=10 -o ControlPath=/root/.ansible/cp/e1be7488c1 172.17.0.2 '/bin/sh -c '\"'\"'echo ~ && sleep 0'\"'\"''\u001b[0m\n",
      "\u001b[0;34m<172.17.0.3> SSH: EXEC ssh -C -o ControlMaster=auto -o ControlPersist=60s -o StrictHostKeyChecking=no -o 'IdentityFile=\"id_ansible\"' -o KbdInteractiveAuthentication=no -o PreferredAuthentications=gssapi-with-mic,gssapi-keyex,hostbased,publickey -o PasswordAuthentication=no -o ConnectTimeout=10 -o ControlPath=/root/.ansible/cp/34eb77ae91 172.17.0.3 '/bin/sh -c '\"'\"'echo ~ && sleep 0'\"'\"''\u001b[0m\n",
      "\u001b[0;34m<172.17.0.4> (255, '', 'Permission denied (publickey,password).\\r\\n')\u001b[0m\n",
      "\u001b[1;31m172.17.0.4 | UNREACHABLE! => {\u001b[0m\n",
      "\u001b[1;31m    \"changed\": false, \u001b[0m\n",
      "\u001b[1;31m    \"msg\": \"Failed to connect to the host via ssh: Permission denied (publickey,password).\\r\\n\", \u001b[0m\n",
      "\u001b[1;31m    \"unreachable\": true\u001b[0m\n",
      "\u001b[1;31m}\u001b[0m\n",
      "\u001b[0;34m<172.17.0.2> (255, '', 'Permission denied (publickey,password).\\r\\n')\u001b[0m\n",
      "\u001b[0;34m<172.17.0.3> (255, '', 'Permission denied (publickey,password).\\r\\n')\u001b[0m\n",
      "\u001b[1;31m172.17.0.2 | UNREACHABLE! => {\u001b[0m\n",
      "\u001b[1;31m    \"changed\": false, \u001b[0m\n",
      "\u001b[1;31m    \"msg\": \"Failed to connect to the host via ssh: Permission denied (publickey,password).\\r\\n\", \u001b[0m\n",
      "\u001b[1;31m    \"unreachable\": true\u001b[0m\n",
      "\u001b[1;31m}\u001b[0m\n",
      "\u001b[1;31m172.17.0.3 | UNREACHABLE! => {\u001b[0m\n",
      "\u001b[1;31m    \"changed\": false, \u001b[0m\n",
      "\u001b[1;31m    \"msg\": \"Failed to connect to the host via ssh: Permission denied (publickey,password).\\r\\n\", \u001b[0m\n",
      "\u001b[1;31m    \"unreachable\": true\u001b[0m\n",
      "\u001b[1;31m}\u001b[0m\n"
     ]
    }
   ],
   "source": [
    "# Running in debug mode we can see all ssh arguments injected via anisble. Discuss the DEBUG output       \n",
    "!ansible -vvv -m ping all"
   ]
  },
  {
   "cell_type": "markdown",
   "metadata": {},
   "source": [
    "## Exercise\n",
    "\n",
    "Run ansible in verbose mode to se all the injected ssh argument. If the output is too verbose, reduce it either with:\n",
    "    - `--limit ipaddress` to contact only one node\n",
    "    - host indexing/subscript eg: `all[0]` "
   ]
  },
  {
   "cell_type": "markdown",
   "metadata": {},
   "source": [
    "# Discuss vaults for:\n",
    "- common secrets to be shared on a repo\n",
    "- private secrets to reside on local PC"
   ]
  }
 ],
 "metadata": {
  "kernelspec": {
   "display_name": "Python 2",
   "language": "python",
   "name": "python2"
  },
  "language_info": {
   "codemirror_mode": {
    "name": "ipython",
    "version": 2
   },
   "file_extension": ".py",
   "mimetype": "text/x-python",
   "name": "python",
   "nbconvert_exporter": "python",
   "pygments_lexer": "ipython2",
   "version": "2.7.11"
  }
 },
 "nbformat": 4,
 "nbformat_minor": 1
}
