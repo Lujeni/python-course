{
 "cells": [
  {
   "cell_type": "markdown",
   "metadata": {},
   "source": [
    "# My first project \n",
    "\n",
    "When creating a project, we start defining the infrastructure layout via two files:\n",
    "\n",
    "  - ansible.cfg\n",
    "  - inventory\n",
    "  \n",
    "Our current setup is:\n",
    "\n",
    "  - direct access to client machines\n",
    "  - one `inventory` file\n",
    "  - no host_key_check\n",
    "  - no retry files\n",
    "  - client machine username/password is `root:root`\n",
    "  - no pki certificate is installed by default\n",
    "\n"
   ]
  },
  {
   "cell_type": "code",
   "execution_count": null,
   "metadata": {
    "collapsed": true
   },
   "outputs": [],
   "source": []
  },
  {
   "cell_type": "code",
   "execution_count": 1,
   "metadata": {},
   "outputs": [
    {
     "name": "stdout",
     "output_type": "stream",
     "text": [
      "/notebooks/exercise-01\n"
     ]
    }
   ],
   "source": [
    "cd exercise-01/\n"
   ]
  },
  {
   "cell_type": "markdown",
   "metadata": {},
   "source": [
    "## Preparation\n",
    "\n",
    "The first steps include creating all secret files, the deployment descriptor and the inventory."
   ]
  },
  {
   "cell_type": "code",
   "execution_count": 3,
   "metadata": {},
   "outputs": [
    {
     "name": "stdout",
     "output_type": "stream",
     "text": [
      "id_ansible already exists.\n",
      "Overwrite (y/n)? ^C\n"
     ]
    }
   ],
   "source": [
    "# At first create a proper ssh key for the project\n",
    "!ssh-keygen -q -t ecdsa -f id_ansible  -N ''\n",
    "\n",
    "# We'll reference this secret"
   ]
  },
  {
   "cell_type": "code",
   "execution_count": 36,
   "metadata": {},
   "outputs": [
    {
     "name": "stdout",
     "output_type": "stream",
     "text": [
      "\r\n",
      "[defaults]\r\n",
      "inventory = inventory\r\n",
      "retry_files_enabled = false\r\n",
      "\r\n",
      "#\r\n",
      "# ssh configs\r\n",
      "#\r\n",
      "host_key_checking = no\r\n",
      "private_key_file = id_ansible\r\n",
      "\r\n",
      "# We want to store root password in an encrypted file\r\n",
      "#  but don't want to be prompted for a password each time\r\n",
      "vault_password_file = .pin\r\n",
      "\r\n",
      "[course]\r\n",
      "172.17.0.[2:4]  ansible_password={{root_password}}  # load variable from vault\r\n",
      "\r\n"
     ]
    }
   ],
   "source": [
    "\n",
    "# Create a configurationfile. \n",
    "with open(\"ansible.cfg\", \"wb\") as fh:\n",
    "    fh.write(\"\"\"\n",
    "[defaults]\n",
    "inventory = inventory\n",
    "retry_files_enabled = false\n",
    "\n",
    "#\n",
    "# ssh configs\n",
    "#\n",
    "host_key_checking = no\n",
    "private_key_file = id_ansible\n",
    "\n",
    "# We want to store root password in an encrypted file\n",
    "#  but don't want to be prompted for a password each time\n",
    "vault_password_file = .pin\n",
    "\"\"\")\n",
    "    \n",
    "    \n",
    "# Now a `secret` password ;)\n",
    "!echo secret > .pin    \n",
    "\n",
    "\n",
    "# then a small inventory\n",
    "with open(\"inventory\", \"wb\") as fh:\n",
    "    fh.write(\"\"\"\n",
    "[course]\n",
    "172.17.0.[2:4]  ansible_password={{root_password}}  # load variable from vault\n",
    "\n",
    "\"\"\")\n",
    "\n",
    "    \n",
    "#\n",
    "# Check the outcome\n",
    "#\n",
    "!cat ansible.cfg inventory\n"
   ]
  },
  {
   "cell_type": "code",
   "execution_count": 8,
   "metadata": {},
   "outputs": [
    {
     "name": "stdout",
     "output_type": "stream",
     "text": [
      "\u001b[0;31m172.17.0.2 | FAILED! => {\u001b[0m\r\n",
      "\u001b[0;31m    \"failed\": true, \u001b[0m\r\n",
      "\u001b[0;31m    \"msg\": \"the field 'password' has an invalid value, which appears to include a variable that is undefined. The error was: 'root_password' is undefined\"\u001b[0m\r\n",
      "\u001b[0;31m}\u001b[0m\r\n",
      "\u001b[0;31m172.17.0.3 | FAILED! => {\u001b[0m\r\n",
      "\u001b[0;31m    \"failed\": true, \u001b[0m\r\n",
      "\u001b[0;31m    \"msg\": \"the field 'password' has an invalid value, which appears to include a variable that is undefined. The error was: 'root_password' is undefined\"\u001b[0m\r\n",
      "\u001b[0;31m}\u001b[0m\r\n",
      "\u001b[0;31m172.17.0.4 | FAILED! => {\u001b[0m\r\n",
      "\u001b[0;31m    \"failed\": true, \u001b[0m\r\n",
      "\u001b[0;31m    \"msg\": \"the field 'password' has an invalid value, which appears to include a variable that is undefined. The error was: 'root_password' is undefined\"\u001b[0m\r\n",
      "\u001b[0;31m}\u001b[0m\r\n"
     ]
    }
   ],
   "source": [
    "# Let's get an error: root_password is UNDEFINED. \n",
    "!ansible -m ping all\n"
   ]
  },
  {
   "cell_type": "markdown",
   "metadata": {},
   "source": [
    "## Vaults\n",
    "\n",
    "We now ensure that everything is encrypted and we're able to connect to some hosts"
   ]
  },
  {
   "cell_type": "code",
   "execution_count": 16,
   "metadata": {},
   "outputs": [
    {
     "name": "stdout",
     "output_type": "stream",
     "text": [
      "Encryption successful\r\n"
     ]
    }
   ],
   "source": [
    "# A vault is just a yaml file containing a dictionary of secrets.\n",
    "#  We can put here as many information as we want, but for now\n",
    "#  just put the `root_password`.\n",
    "\n",
    "!echo \"root_password: root\" > vaultfile.yml\n",
    "\n",
    "# We need to encrypt it \n",
    "!ansible-vault encrypt vaultfile.yml"
   ]
  },
  {
   "cell_type": "code",
   "execution_count": 17,
   "metadata": {},
   "outputs": [
    {
     "name": "stdout",
     "output_type": "stream",
     "text": [
      "$ANSIBLE_VAULT;1.1;AES256\n",
      "64623339356534653931373637656137363432663764633834613338343066636165396438633365\n",
      "3830393863346533633065623339343939616362323366660a356661333037386164663935313165\n",
      "39396236343666643966356634623362303234636264653939346534666461323265373137623132\n",
      "6361393763313232390a373631353431313466363765363538633963383864386630646632366633\n",
      "30343164643733636431643739656630383230636234633234646362643930313733\n",
      "root_password: root\n"
     ]
    }
   ],
   "source": [
    "# And show the anatomy of the vault.\n",
    "!cat vaultfile.yml\n",
    "\n",
    "# Can we decrypt it?\n",
    "!ansible-vault view vaultfile.yml"
   ]
  },
  {
   "cell_type": "code",
   "execution_count": 19,
   "metadata": {},
   "outputs": [
    {
     "name": "stdout",
     "output_type": "stream",
     "text": [
      "\u001b[1;31m172.17.0.3 | UNREACHABLE! => {\u001b[0m\n",
      "\u001b[1;31m    \"changed\": false, \u001b[0m\n",
      "\u001b[1;31m    \"msg\": \"Failed to connect to the host via ssh: ssh: connect to host 172.17.0.3 port 22: Connection refused\\r\\n\", \u001b[0m\n",
      "\u001b[1;31m    \"unreachable\": true\u001b[0m\n",
      "\u001b[1;31m}\u001b[0m\n",
      "\u001b[1;31m172.17.0.4 | UNREACHABLE! => {\u001b[0m\n",
      "\u001b[1;31m    \"changed\": false, \u001b[0m\n",
      "\u001b[1;31m    \"msg\": \"Failed to connect to the host via ssh: ssh: connect to host 172.17.0.4 port 22: No route to host\\r\\n\", \u001b[0m\n",
      "\u001b[1;31m    \"unreachable\": true\u001b[0m\n",
      "\u001b[1;31m}\u001b[0m\n",
      "\u001b[0;32m172.17.0.2 | SUCCESS => {\u001b[0m\n",
      "\u001b[0;32m    \"changed\": false, \u001b[0m\n",
      "\u001b[0;32m    \"ping\": \"pong\"\u001b[0m\n",
      "\u001b[0;32m}\u001b[0m\n"
     ]
    }
   ],
   "source": [
    "!ansible -m ping all -e@vaultfile.yml\n"
   ]
  },
  {
   "cell_type": "markdown",
   "metadata": {},
   "source": [
    "## Our first playbook\n",
    "\n",
    "We want to switch from password to ssh authentication. Create a playbook to install ssh keys.\n"
   ]
  },
  {
   "cell_type": "code",
   "execution_count": 33,
   "metadata": {},
   "outputs": [
    {
     "name": "stdout",
     "output_type": "stream",
     "text": [
      "\n",
      "PLAY [course] ******************************************************************\n",
      "\n",
      "TASK [Gathering Facts] *********************************************************\n",
      "\u001b[1;31mfatal: [172.17.0.3]: UNREACHABLE! => {\"changed\": false, \"msg\": \"Failed to connect to the host via ssh: ssh: connect to host 172.17.0.3 port 22: Connection refused\\r\\n\", \"unreachable\": true}\u001b[0m\n",
      "\u001b[1;31mfatal: [172.17.0.4]: UNREACHABLE! => {\"changed\": false, \"msg\": \"Failed to connect to the host via ssh: ssh: connect to host 172.17.0.4 port 22: No route to host\\r\\n\", \"unreachable\": true}\u001b[0m\n",
      "\u001b[0;32mok: [172.17.0.2]\u001b[0m\n",
      "\n",
      "TASK [Ensure /root/.ssh is present] ********************************************\n",
      "\u001b[0;32mok: [172.17.0.2]\u001b[0m\n",
      "\n",
      "TASK [Copy there my key] *******************************************************\n",
      "\u001b[0;32mok: [172.17.0.2]\u001b[0m\n",
      "\n",
      "PLAY RECAP *********************************************************************\n",
      "\u001b[0;32m172.17.0.2\u001b[0m                 : \u001b[0;32mok=3   \u001b[0m changed=0    unreachable=0    failed=0   \n",
      "\u001b[0;31m172.17.0.3\u001b[0m                 : ok=0    changed=0    \u001b[1;31munreachable=1   \u001b[0m failed=0   \n",
      "\u001b[0;31m172.17.0.4\u001b[0m                 : ok=0    changed=0    \u001b[1;31munreachable=1   \u001b[0m failed=0   \n",
      "\n"
     ]
    }
   ],
   "source": [
    "with open(\"copy-key.yml\", \"wb\") as fh:\n",
    "    fh.write(\"\"\"\n",
    "# Load variables from the following files\n",
    "- hosts: course\n",
    "  vars_files:\n",
    "  - vaultfile.yml\n",
    "  tasks:\n",
    "  - name: Ensure /root/.ssh is present\n",
    "    file: path=/root/.ssh owner=root group=root state=directory\n",
    "  - name: Copy there my key\n",
    "    copy: src=id_ansible.pub dest=/root/.ssh/authorized_keys mode=0600 owner=root group=root\n",
    "    \n",
    "    \"\"\")\n",
    "\n",
    "!ansible-playbook copy-key.yml"
   ]
  },
  {
   "cell_type": "code",
   "execution_count": 38,
   "metadata": {},
   "outputs": [
    {
     "name": "stdout",
     "output_type": "stream",
     "text": [
      "Using /notebooks/notebooks/exercise-01/ansible.cfg as config file\n",
      "\u001b[0;34mMETA: ran handlers\u001b[0m\n",
      "\u001b[0;34mUsing module file /usr/local/lib/python2.7/site-packages/ansible/modules/system/ping.py\u001b[0m\n",
      "\u001b[0;34m<172.17.0.2> ESTABLISH SSH CONNECTION FOR USER: None\u001b[0m\n",
      "\u001b[0;34m<172.17.0.2> SSH: EXEC ssh -C -o ControlMaster=auto -o ControlPersist=60s -o StrictHostKeyChecking=no -o 'IdentityFile=\"id_ansible\"' -o KbdInteractiveAuthentication=no -o PreferredAuthentications=gssapi-with-mic,gssapi-keyex,hostbased,publickey -o PasswordAuthentication=no -o ConnectTimeout=10 -o ControlPath=/root/.ansible/cp/e1be7488c1 172.17.0.2 '/bin/sh -c '\"'\"'echo ~ && sleep 0'\"'\"''\u001b[0m\n",
      "\u001b[0;34m<172.17.0.2> (0, '/root\\n', '')\u001b[0m\n",
      "\u001b[0;34m<172.17.0.2> ESTABLISH SSH CONNECTION FOR USER: None\u001b[0m\n",
      "\u001b[0;34m<172.17.0.2> SSH: EXEC ssh -C -o ControlMaster=auto -o ControlPersist=60s -o StrictHostKeyChecking=no -o 'IdentityFile=\"id_ansible\"' -o KbdInteractiveAuthentication=no -o PreferredAuthentications=gssapi-with-mic,gssapi-keyex,hostbased,publickey -o PasswordAuthentication=no -o ConnectTimeout=10 -o ControlPath=/root/.ansible/cp/e1be7488c1 172.17.0.2 '/bin/sh -c '\"'\"'( umask 77 && mkdir -p \"` echo /root/.ansible/tmp/ansible-tmp-1497175989.8-126897642383317 `\" && echo ansible-tmp-1497175989.8-126897642383317=\"` echo /root/.ansible/tmp/ansible-tmp-1497175989.8-126897642383317 `\" ) && sleep 0'\"'\"''\u001b[0m\n",
      "\u001b[0;34m<172.17.0.2> (0, 'ansible-tmp-1497175989.8-126897642383317=/root/.ansible/tmp/ansible-tmp-1497175989.8-126897642383317\\n', '')\u001b[0m\n",
      "\u001b[0;34m<172.17.0.2> PUT /tmp/tmpdRrR6U TO /root/.ansible/tmp/ansible-tmp-1497175989.8-126897642383317/ping.py\u001b[0m\n",
      "\u001b[0;34m<172.17.0.2> SSH: EXEC sftp -b - -C -o ControlMaster=auto -o ControlPersist=60s -o StrictHostKeyChecking=no -o 'IdentityFile=\"id_ansible\"' -o KbdInteractiveAuthentication=no -o PreferredAuthentications=gssapi-with-mic,gssapi-keyex,hostbased,publickey -o PasswordAuthentication=no -o ConnectTimeout=10 -o ControlPath=/root/.ansible/cp/e1be7488c1 '[172.17.0.2]'\u001b[0m\n",
      "\u001b[0;34m<172.17.0.2> (0, 'sftp> put /tmp/tmpdRrR6U /root/.ansible/tmp/ansible-tmp-1497175989.8-126897642383317/ping.py\\n', '')\u001b[0m\n",
      "\u001b[0;34m<172.17.0.2> ESTABLISH SSH CONNECTION FOR USER: None\u001b[0m\n",
      "\u001b[0;34m<172.17.0.2> SSH: EXEC ssh -C -o ControlMaster=auto -o ControlPersist=60s -o StrictHostKeyChecking=no -o 'IdentityFile=\"id_ansible\"' -o KbdInteractiveAuthentication=no -o PreferredAuthentications=gssapi-with-mic,gssapi-keyex,hostbased,publickey -o PasswordAuthentication=no -o ConnectTimeout=10 -o ControlPath=/root/.ansible/cp/e1be7488c1 172.17.0.2 '/bin/sh -c '\"'\"'chmod u+x /root/.ansible/tmp/ansible-tmp-1497175989.8-126897642383317/ /root/.ansible/tmp/ansible-tmp-1497175989.8-126897642383317/ping.py && sleep 0'\"'\"''\u001b[0m\n",
      "\u001b[0;34m<172.17.0.2> (0, '', '')\u001b[0m\n",
      "\u001b[0;34m<172.17.0.2> ESTABLISH SSH CONNECTION FOR USER: None\u001b[0m\n",
      "\u001b[0;34m<172.17.0.2> SSH: EXEC ssh -C -o ControlMaster=auto -o ControlPersist=60s -o StrictHostKeyChecking=no -o 'IdentityFile=\"id_ansible\"' -o KbdInteractiveAuthentication=no -o PreferredAuthentications=gssapi-with-mic,gssapi-keyex,hostbased,publickey -o PasswordAuthentication=no -o ConnectTimeout=10 -o ControlPath=/root/.ansible/cp/e1be7488c1 -tt 172.17.0.2 '/bin/sh -c '\"'\"'/usr/bin/python /root/.ansible/tmp/ansible-tmp-1497175989.8-126897642383317/ping.py; rm -rf \"/root/.ansible/tmp/ansible-tmp-1497175989.8-126897642383317/\" > /dev/null 2>&1 && sleep 0'\"'\"''\u001b[0m\n",
      "\u001b[0;34m<172.17.0.2> (0, '\\r\\n{\"invocation\": {\"module_args\": {\"data\": null}}, \"changed\": false, \"ping\": \"pong\"}\\r\\n', 'Shared connection to 172.17.0.2 closed.\\r\\n')\u001b[0m\n",
      "\u001b[0;32m172.17.0.2 | SUCCESS => {\u001b[0m\n",
      "\u001b[0;32m    \"changed\": false, \u001b[0m\n",
      "\u001b[0;32m    \"invocation\": {\u001b[0m\n",
      "\u001b[0;32m        \"module_args\": {\u001b[0m\n",
      "\u001b[0;32m            \"data\": null\u001b[0m\n",
      "\u001b[0;32m        }\u001b[0m\n",
      "\u001b[0;32m    }, \u001b[0m\n",
      "\u001b[0;32m    \"ping\": \"pong\"\u001b[0m\n",
      "\u001b[0;32m}\u001b[0m\n",
      "\u001b[0;34mMETA: ran handlers\u001b[0m\n",
      "\u001b[0;34mMETA: ran handlers\u001b[0m\n"
     ]
    }
   ],
   "source": [
    "# Now comment out the ansible_password field in `inventory` here\n",
    "http://0.0.0.0:8888/edit/notebooks/notebooks/exercise-01/inventory#\n",
    "\n",
    "# Running in debug mode we can see all ssh arguments injected via anisble. Discuss the DEBUG output       \n",
    "!ansible -vvv -m ping all --limit 172.17.0.2"
   ]
  },
  {
   "cell_type": "markdown",
   "metadata": {},
   "source": [
    "# Discuss vaults for:\n",
    "- common secrets to be shared on a repo\n",
    "- private secrets to reside on local PC"
   ]
  }
 ],
 "metadata": {
  "kernelspec": {
   "display_name": "Python 2",
   "language": "python",
   "name": "python2"
  },
  "language_info": {
   "codemirror_mode": {
    "name": "ipython",
    "version": 2
   },
   "file_extension": ".py",
   "mimetype": "text/x-python",
   "name": "python",
   "nbconvert_exporter": "python",
   "pygments_lexer": "ipython2",
   "version": "2.7.11"
  }
 },
 "nbformat": 4,
 "nbformat_minor": 1
}
