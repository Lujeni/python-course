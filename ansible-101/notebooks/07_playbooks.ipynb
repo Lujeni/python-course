{
 "metadata": {
  "kernelspec": {
   "display_name": "Python 2",
   "language": "python",
   "name": "python2"
  },
  "language_info": {
   "codemirror_mode": {
    "name": "ipython",
    "version": 2
   },
   "file_extension": ".py",
   "mimetype": "text/x-python",
   "name": "python",
   "nbconvert_exporter": "python",
   "pygments_lexer": "ipython2",
   "version": "2.7.11"
  },
  "name": ""
 },
 "nbformat": 3,
 "nbformat_minor": 0,
 "worksheets": [
  {
   "cells": [
    {
     "cell_type": "markdown",
     "metadata": {},
     "source": [
      "# Playbooks\n",
      "\n",
      "\n",
      "As we already learn in the other lessons, playbooks are yaml files where we group tasks.\n",
      "\n",
      "A playbook starts with an hosts mark specifying the hosts to run the playbook to.\n",
      "\n",
      "```\n",
      "---\n",
      "- hosts: web\n",
      "  tasks: \n",
      "  ...\n",
      "```\n",
      "\n",
      "\n",
      "For yaml, a playbook is a *list* of `hosts` entries.\n",
      "\n",
      "\n",
      "```\n",
      "- hosts: localhost\n",
      "  tasks:\n",
      "  - name: one or more tasks to be run on localhost\n",
      "    ...\n",
      "    \n",
      "- hosts: web\n",
      "  tasks:\n",
      "  - name: followed by tasks to be run on web hostgroup\n",
      "    ...\n",
      "```\n",
      "\n",
      "We can even pick a single element in an host group, or add `tags` entries to restrict executions\n",
      "\n",
      "```\n",
      "- hosts: db[0]\n",
      "  tags: beware\n",
      "  tasks:\n",
      "  - name: .. and then on the first db node ;)\n",
      "\n",
      "```"
     ]
    },
    {
     "cell_type": "code",
     "collapsed": false,
     "input": [
      "cd exercise-07"
     ],
     "language": "python",
     "metadata": {},
     "outputs": [],
     "prompt_number": 2
    },
    {
     "cell_type": "markdown",
     "metadata": {
      "collapsed": true
     },
     "source": [
      "### Goal\n",
      "\n",
      " - user and skel\n",
      " - install packages and enable service (not on containers)\n",
      " - lineinfile\n",
      " - curl\n",
      " - file, copy & fetch\n",
      " \n",
      "Creating small reports.\n",
      "\n",
      "More fun with:\n",
      "\n",
      "  - iterations\n",
      "  - ignore_errors\n",
      "  - with_fileglob and remote_fileglob ;)\n",
      "\n",
      "Creating small reports.\n",
      "\n"
     ]
    },
    {
     "cell_type": "markdown",
     "metadata": {},
     "source": [
      "## Gathering facts\n",
      "\n",
      "\n",
      "When run, a playbook gathers facts about hosts (remember the setup module?).\n",
      "\n",
      "Gathering facts may be time-consuming, so you can [tune it via ansible.cfg](http://docs.ansible.com/ansible/intro_configuration.html#gathering) or disable it\n",
      "\n",
      "```\n",
      "- hosts: web\n",
      "  gather_facts: no\n",
      "  tasks:\n",
      "  ...\n",
      "```\n",
      "\n",
      "We can use the [predefined variables](http://docs.ansible.com/ansible/playbooks_variables.html#magic-variables-and-how-to-access-information-about-other-hosts) too:\n",
      "\n",
      "  - group_names\n",
      "  - groups\n",
      "  - hostvars\n",
      "  - environment "
     ]
    },
    {
     "cell_type": "code",
     "collapsed": false,
     "input": [
      "!ansible-playbook debug.yml --tags gather_facts"
     ],
     "language": "python",
     "metadata": {},
     "outputs": [],
     "prompt_number": 5
    },
    {
     "cell_type": "markdown",
     "metadata": {},
     "source": [
      "## Exercise: \n",
      "\n",
      "[modify debug.yml](/edit/notebooks/exercise-06/debug.yml) to disable fact gathering and use the following cell to test it "
     ]
    },
    {
     "cell_type": "code",
     "collapsed": true,
     "input": [
      "# Test the exercise here"
     ],
     "language": "python",
     "metadata": {},
     "outputs": [],
     "prompt_number": 6
    },
    {
     "cell_type": "markdown",
     "metadata": {},
     "source": [
      "### Hints\n",
      "\n",
      " - use ansible_facts as possible instead of gathering facts with uname & co\n",
      " - test and template your iterations statically instead of continuosly gathering facts\n",
      " "
     ]
    },
    {
     "cell_type": "markdown",
     "metadata": {},
     "source": [
      "## hostvars\n",
      "\n",
      "Ansible allows referencing facts between hosts, so that we're able to get eg. a list of all webserver ip addresses.\n",
      "\n",
      "Between set variables we have:\n",
      "\n",
      "  - hostvars\n",
      "  - groups\n",
      "  \n"
     ]
    },
    {
     "cell_type": "code",
     "collapsed": false,
     "input": [
      "!ansible-playbook debug.yml --tags hostvars"
     ],
     "language": "python",
     "metadata": {},
     "outputs": [],
     "prompt_number": 3
    },
    {
     "cell_type": "markdown",
     "metadata": {
      "collapsed": true
     },
     "source": [
      "## Exercise\n",
      "\n",
      "Did you note anything about the hostvars keys printed out by the previous command?"
     ]
    },
    {
     "cell_type": "markdown",
     "metadata": {},
     "source": [
      "## Filters\n",
      "\n",
      "We can process hostvars using special functions named filters. \n",
      "\n",
      "Filters are based on the jinja2 template engine.\n",
      "\n",
      "\n",
      "```\n",
      "- name: We already found a simple filter mapping entries to int\n",
      "  debug: msg=\"{{ 3.1415 | int }}\"\n",
      "```\n",
      "\n",
      "A filter is essentially a function returning a function, like a lambda.\n",
      "\n",
      "```\n",
      "int_filter = lambda x: int(x)\n",
      "```\n",
      "\n",
      "A more complex filter: \n",
      "```\n",
      "- name: This is a getter\n",
      "  debug: msg=\"{{ ['host1', 'host2'] | map('extract', hostvars, ['key1', .. , 'keyN']) }}\"\n",
      "```\n",
      "\n",
      "where\n",
      "```\n",
      "hostvars_getter = lambda host: hostvars[host]['key1'][..]['keyN']\n",
      "```\n",
      "\n",
      "You can pipeline filters and test incrementally."
     ]
    },
    {
     "cell_type": "code",
     "collapsed": false,
     "input": [
      "!ansible-playbook debug.yml --tags filters"
     ],
     "language": "python",
     "metadata": {},
     "outputs": [],
     "prompt_number": 9
    },
    {
     "cell_type": "markdown",
     "metadata": {},
     "source": [
      "## Packages, User and Files\n",
      "\n",
      "Creating user and installing packages is easy\n",
      "\n",
      "```\n",
      "  - name: Install apache\n",
      "    apt: item=\"{{item}}\" state=present\n",
      "    with_items:\n",
      "    - apache2\n",
      "    - curl\n",
      "    \n",
      "  - name: Remove wget\n",
      "    apt: item=wget state=absent\n",
      "```"
     ]
    },
    {
     "cell_type": "code",
     "collapsed": false,
     "input": [
      "!cat package-user.yml\n"
     ],
     "language": "python",
     "metadata": {},
     "outputs": [],
     "prompt_number": 8
    },
    {
     "cell_type": "code",
     "collapsed": false,
     "input": [
      "!ansible-playbook package-user.yml\n"
     ],
     "language": "python",
     "metadata": {},
     "outputs": [],
     "prompt_number": 9
    },
    {
     "cell_type": "code",
     "collapsed": false,
     "input": [
      "!tree /tmp/fetched/"
     ],
     "language": "python",
     "metadata": {},
     "outputs": [],
     "prompt_number": 12
    },
    {
     "cell_type": "markdown",
     "metadata": {},
     "source": [
      "## Files and Directories\n",
      "\n",
      "Creating files and directories. \n",
      "\n",
      "lineinfile / blockinfile\n",
      "\n",
      "with_fileglob"
     ]
    },
    {
     "cell_type": "code",
     "collapsed": false,
     "input": [
      "!cat files-content.yml"
     ],
     "language": "python",
     "metadata": {},
     "outputs": [],
     "prompt_number": 10
    },
    {
     "cell_type": "code",
     "collapsed": false,
     "input": [
      "!ansible-playbook -i inventory files-content.yml \n"
     ],
     "language": "python",
     "metadata": {},
     "outputs": [],
     "prompt_number": 11
    },
    {
     "cell_type": "markdown",
     "metadata": {},
     "source": [
      "## shell module reloaded\n",
      "\n",
      "Ansible can be used to reproduce issues and gather command output. \n",
      "\n",
      "Though the standard workflow can be done registering output in a temporary variable\n"
     ]
    },
    {
     "cell_type": "code",
     "collapsed": false,
     "input": [
      "!cat shell-output-01.yml"
     ],
     "language": "python",
     "metadata": {},
     "outputs": [],
     "prompt_number": 14
    },
    {
     "cell_type": "code",
     "collapsed": false,
     "input": [
      "!ansible-playbook shell-output-01.yml"
     ],
     "language": "python",
     "metadata": {},
     "outputs": [],
     "prompt_number": 15
    },
    {
     "cell_type": "markdown",
     "metadata": {},
     "source": [
      "This approach has its limits.\n",
      "\n",
      "### Exercise:\n",
      "\n",
      "  - what happens if you processa long pipeline with  [shell-output-01.yml](/edit/notebooks/exercise-07/shell-output-01.yml) ? \n",
      "  \n",
      "Exercise: modify [shell-output-01.yml](/edit/notebooks/exercise-07/shell-output-01.yml) so that:\n",
      "\n",
      "  - every command stdout/stderr is redirected to a given file\n",
      "  - before and after every command output print  a header and a footer (eg. the expected output is like\n",
      "  \n",
      "```\n",
      "--- START COMMAND: cat /etc/resolv.conf --\n",
      "nameserver 172.17.0.1\n",
      "-- END COMMAND: cat /etc/resolv.conf\n",
      "```\n",
      "\n",
      "HINTS:\n",
      "\n",
      "  - use shell redirection instead of `register`\n",
      "  - use with_items to process many different commands \n",
      "  "
     ]
    },
    {
     "cell_type": "code",
     "collapsed": false,
     "input": [
      "!ansible-playbook shell-output-02.yml -i ../web"
     ],
     "language": "python",
     "metadata": {},
     "outputs": [],
     "prompt_number": 18
    },
    {
     "cell_type": "code",
     "collapsed": true,
     "input": [],
     "language": "python",
     "metadata": {},
     "outputs": [],
     "prompt_number": null
    },
    {
     "cell_type": "markdown",
     "metadata": {},
     "source": [
      "## Templates\n",
      "\n",
      "Creating files from templates.\n",
      "\n",
      "include template files, enforcing policies\n",
      "\n",
      "tagging\n",
      "\n"
     ]
    }
   ],
   "metadata": {}
  }
 ]
}