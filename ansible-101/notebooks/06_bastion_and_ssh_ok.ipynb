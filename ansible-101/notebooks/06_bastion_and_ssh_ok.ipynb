{
 "cells": [
  {
   "cell_type": "markdown",
   "metadata": {},
   "source": [
    "# Bastion hosts\n",
    "\n",
    "There are many reasons for using bastion hosts:\n",
    "\n",
    "  - security access eg in cloud environment\n",
    "  - vpn eg via windows hosts\n",
    "  \n",
    "The latter case is quite boring as ansible doesn't support windows as a client platform.\n",
    "\n",
    "A standard approach is:\n",
    "\n",
    "  - have a ssh server or a proxy installed on the bastion\n",
    "  - connecto the bastion to the remote network (eg. via vpn)\n",
    "  - configure ssh options in ansible to connect thru the bastion\n",
    "  \n",
    "We'll do this via two configuration files:\n",
    "\n",
    "  - a standard ssh_config where we put the passthru configuration\n",
    "  - a simple ansible.cfg referencing ssh_config\n",
    "  \n",
    "This approach allows us:\n",
    "\n",
    "  1. to test the standard ssh connection thru the bastion without messing with ansible\n",
    "  2. keep ansible.cfg simple in case we want to reuse them from the intranet (Eg. without traversing the bastion)\n",
    "  \n",
    "  "
   ]
  }
 ],
 "metadata": {
  "kernelspec": {
   "display_name": "Python 2",
   "language": "python",
   "name": "python2"
  },
  "language_info": {
   "codemirror_mode": {
    "name": "ipython",
    "version": 2
   },
   "file_extension": ".py",
   "mimetype": "text/x-python",
   "name": "python",
   "nbconvert_exporter": "python",
   "pygments_lexer": "ipython2",
   "version": "2.7.11"
  }
 },
 "nbformat": 4,
 "nbformat_minor": 2
}
