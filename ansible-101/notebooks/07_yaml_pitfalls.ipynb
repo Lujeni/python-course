{
 "cells": [
  {
   "cell_type": "markdown",
   "metadata": {
    "collapsed": true
   },
   "source": [
    "# Yaml\n",
    "\n",
    "What's yaml. References.\n",
    "\n",
    "Parsing and dumping yaml, different yaml serializations.\n",
    "\n",
    "Quoted and inline strings with > and |\n",
    "\n",
    "Hint: prefer >| over quoting\n",
    "\n",
    "Pitfalls:\n",
    "\n",
    "  - always \"{{}}\"\n",
    "  - processing is done *inside* {{ }}\n",
    "  - "
   ]
  }
 ],
 "metadata": {
  "kernelspec": {
   "display_name": "Python 2",
   "language": "python",
   "name": "python2"
  },
  "language_info": {
   "codemirror_mode": {
    "name": "ipython",
    "version": 2
   },
   "file_extension": ".py",
   "mimetype": "text/x-python",
   "name": "python",
   "nbconvert_exporter": "python",
   "pygments_lexer": "ipython2",
   "version": "2.7.11"
  }
 },
 "nbformat": 4,
 "nbformat_minor": 2
}
