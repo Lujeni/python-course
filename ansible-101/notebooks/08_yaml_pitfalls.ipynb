{
 "metadata": {
  "kernelspec": {
   "display_name": "Python 2",
   "language": "python",
   "name": "python2"
  },
  "language_info": {
   "codemirror_mode": {
    "name": "ipython",
    "version": 2
   },
   "file_extension": ".py",
   "mimetype": "text/x-python",
   "name": "python",
   "nbconvert_exporter": "python",
   "pygments_lexer": "ipython2",
   "version": "2.7.11"
  },
  "name": ""
 },
 "nbformat": 3,
 "nbformat_minor": 0,
 "worksheets": [
  {
   "cells": [
    {
     "cell_type": "markdown",
     "metadata": {
      "collapsed": true
     },
     "source": [
      "# Yaml\n",
      "\n",
      "Except for `ansible.cfg` which is an .ini file, all ansible files are in `yaml`, so  let's spent some time on YAML.\n",
      "\n",
      "At the end of [inventories chapter](/notebooks/notebooks/04_inventories.ipynb) we showed how to use yaml to define list and maps variables.\n",
      "\n",
      "In this chapter we'll go a bit further.\n",
      "\n",
      "## Goals\n",
      "\n",
      "  - what's yaml\n",
      "  - parsing and dumping yaml with python\n",
      "  - strings: quotes and multi-line\n",
      "  \n",
      "## See also\n",
      "\n",
      "  -  [Yaml in ansible](http://docs.ansible.com/ansible/YAMLSyntax.html)\n",
      "  - [Yaml reference](http://www.yaml.org/spec/1.2/spec.html)"
     ]
    },
    {
     "cell_type": "code",
     "collapsed": false,
     "input": [
      "cd exercise-08/"
     ],
     "language": "python",
     "metadata": {},
     "outputs": [],
     "prompt_number": 1
    },
    {
     "cell_type": "heading",
     "level": 2,
     "metadata": {},
     "source": [
      "What's yaml?"
     ]
    },
    {
     "cell_type": "code",
     "collapsed": false,
     "input": [
      "import yaml\n",
      "\n",
      "txt = \"\"\"\n",
      "{ \"yaml\": 'is', 'a superset': 'of json'}\n",
      "\"\"\"\n",
      "ret = yaml.load(txt)\n",
      "print(ret)"
     ],
     "language": "python",
     "metadata": {},
     "outputs": [],
     "prompt_number": 2
    },
    {
     "cell_type": "code",
     "collapsed": false,
     "input": [
      "# Yoda loves dictionaries ;)\n",
      "print(yaml.dump(ret))"
     ],
     "language": "python",
     "metadata": {},
     "outputs": [],
     "prompt_number": 3
    },
    {
     "cell_type": "code",
     "collapsed": false,
     "input": [
      "# Customized dumper\n",
      "print(yaml.dump(ret, default_flow_style=False))"
     ],
     "language": "python",
     "metadata": {},
     "outputs": [],
     "prompt_number": 4
    },
    {
     "cell_type": "code",
     "collapsed": false,
     "input": [
      "txt = \"\"\"\n",
      "# Yaml comments starts with hash\n",
      "you: {'can':'use', 'brace':'syntax'}\n",
      "\"\"\"\n",
      "\n",
      "ret = yaml.load(txt)\n",
      "print(yaml.dump(ret))"
     ],
     "language": "python",
     "metadata": {},
     "outputs": [],
     "prompt_number": 5
    },
    {
     "cell_type": "code",
     "collapsed": false,
     "input": [
      "print(yaml.dump(ret, default_flow_style=False))"
     ],
     "language": "python",
     "metadata": {},
     "outputs": [],
     "prompt_number": 6
    },
    {
     "cell_type": "code",
     "collapsed": false,
     "input": [
      "# Yaml can describe list..\n",
      "print(yaml.load(\"\"\"\n",
      "- tasks:\n",
      "  - contains \n",
      "  - a\n",
      "  - list\n",
      "  - of\n",
      "  - modules\n",
      "\"\"\"))\n"
     ],
     "language": "python",
     "metadata": {},
     "outputs": [],
     "prompt_number": 13
    },
    {
     "cell_type": "code",
     "collapsed": false,
     "input": [
      "# .. and maps / dicts\n",
      "print(yaml.load(\"\"\"\n",
      "- tasks:\n",
      "  - name: \"this dict has two keys: name and debug\"\n",
      "    debug: msg=\"Welcome to Rimini!\"\n",
      "\"\"\"))"
     ],
     "language": "python",
     "metadata": {},
     "outputs": [],
     "prompt_number": 14
    },
    {
     "cell_type": "markdown",
     "metadata": {},
     "source": [
      "## Quoting\n",
      "\n",
      "Yaml rocks respect to json at managing texts, but watch out:\n",
      "\n",
      "  - **colon : is a special character for yaml: it denotes key names **\n",
      "  - single `{` are special charactes too: yaml is a subset of json\n",
      "\n",
      "Moreover, as we're using Ansible\n",
      "\n",
      "  - ansible expands moustaches  `{{ content }}` as variable "
     ]
    },
    {
     "cell_type": "code",
     "collapsed": false,
     "input": [
      "print(yaml.load(\"\"\"\n",
      "this_works: http://no-spaces-after-colon:8080\n",
      "\"\"\"))\n"
     ],
     "language": "python",
     "metadata": {},
     "outputs": [],
     "prompt_number": 7
    },
    {
     "cell_type": "code",
     "collapsed": false,
     "input": [
      "print(yaml.load(\"\"\"this_no: spaces: after colon\"\"\")) \n"
     ],
     "language": "python",
     "metadata": {},
     "outputs": [],
     "prompt_number": 15
    },
    {
     "cell_type": "code",
     "collapsed": false,
     "input": [
      "# Quoting is important!\n",
      "print(yaml.load(\"\"\"\n",
      "that: \"works: though\"\n",
      "\"\"\"))"
     ],
     "language": "python",
     "metadata": {},
     "outputs": [],
     "prompt_number": 16
    },
    {
     "cell_type": "code",
     "collapsed": false,
     "input": [
      "# This is fine \n",
      "print(yaml.load(\"\"\"\n",
      "this_is: fine={{in_yaml}} but\n",
      "\"\"\"))\n",
      "\n",
      "# but with ansible you should\n",
      "print(yaml.load(\"\"\"\n",
      "always: quote=\"{{moustaches}}\"\n",
      "\"\"\"))"
     ],
     "language": "python",
     "metadata": {},
     "outputs": [],
     "prompt_number": 21
    },
    {
     "cell_type": "markdown",
     "metadata": {},
     "source": [
      "### Long texts\n",
      "\n",
      "Long texts are easy and clean as long as you *** use `>` and `|` instead of quoting ***."
     ]
    },
    {
     "cell_type": "code",
     "collapsed": true,
     "input": [
      "text = \"\"\"\n",
      "\n",
      "one_line: \"Rimini is also tied with the great cinema, since it is representative of Federico Fellini's world of fantasy.\"\n",
      "\n",
      "trimmed_one_line: >-\n",
      "  Rimini is also tied with the great cinema,\n",
      "  since it is representative of Federico Fellini's\n",
      "  world of fantasy.\n",
      "\n",
      "always_one_line: >\n",
      "  Rimini is also tied with the great cinema,\n",
      "  since it is representative of Federico Fellini's\n",
      "  world of fantasy.\"\"\"\n",
      "ret = yaml.load(text)\n",
      "\n",
      "assert ret['one_line'] == ret['trimmed_one_line'] == ret['always_one_line']"
     ],
     "language": "python",
     "metadata": {},
     "outputs": [],
     "prompt_number": null
    },
    {
     "cell_type": "markdown",
     "metadata": {},
     "source": [
      "Or write a multi_line string with proper carets"
     ]
    },
    {
     "cell_type": "code",
     "collapsed": false,
     "input": [
      "text = \"\"\"\n",
      "\n",
      "multi: \"Rimini, or the ancient Ariminum, \n",
      "is an art heritage city with over 22 centuries of history.\n",
      "\n",
      "In 268 B.C., the Roman Senate sent six thousand settlers \n",
      "who founded the city that was meant to be strategically central \n",
      "and to develop to this day.\"\n",
      "\n",
      "# Comments are ignored from parser.\n",
      "\n",
      "preserves: |\n",
      "  Rimini, or the ancient Ariminum, \n",
      "  is an art heritage city with over 22 centuries of history. \n",
      "  \n",
      "  In 268 B.C., the Roman Senate nsent six thousand settlers \n",
      "  who founded the city that was meant to be strategically central \n",
      "  and to develop to this day.\n",
      "\n",
      "trims: |-\n",
      "  Rimini, or the ancient Ariminum, \n",
      "  is an art heritage city with over 22 centuries of history. \n",
      "  \n",
      "  In 268 B.C., the Roman Senate nsent six thousand settlers \n",
      "  who founded the city that was meant to be strategically central \n",
      "  and to develop to this day.\n",
      "\n",
      "\n",
      "\"\"\"\n",
      "\n",
      "ret = yaml.load(text)\n",
      "print(yaml.dump(ret, default_flow_style=False))\n"
     ],
     "language": "python",
     "metadata": {},
     "outputs": [],
     "prompt_number": null
    },
    {
     "cell_type": "markdown",
     "metadata": {},
     "source": [
      "## Exercise\n",
      "\n",
      "Use the cell below to find the differences between trims and preserve_caret."
     ]
    },
    {
     "cell_type": "code",
     "collapsed": false,
     "input": [
      "# exercise \n",
      "preserves = ret['preserves']\n",
      "trims = ret['trims']"
     ],
     "language": "python",
     "metadata": {},
     "outputs": [],
     "prompt_number": null
    },
    {
     "cell_type": "heading",
     "level": 1,
     "metadata": {},
     "source": [
      "Yaml and Ansible "
     ]
    },
    {
     "cell_type": "code",
     "collapsed": true,
     "input": [],
     "language": "python",
     "metadata": {},
     "outputs": [],
     "prompt_number": null
    }
   ],
   "metadata": {}
  }
 ]
}