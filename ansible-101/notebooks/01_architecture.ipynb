{
 "metadata": {
  "celltoolbar": "Raw Cell Format",
  "kernelspec": {
   "display_name": "Python 2",
   "language": "python",
   "name": "python2"
  },
  "language_info": {
   "codemirror_mode": {
    "name": "ipython",
    "version": 2
   },
   "file_extension": ".py",
   "mimetype": "text/x-python",
   "name": "python",
   "nbconvert_exporter": "python",
   "pygments_lexer": "ipython2",
   "version": "2.7.11"
  },
  "name": ""
 },
 "nbformat": 3,
 "nbformat_minor": 0,
 "worksheets": [
  {
   "cells": [
    {
     "cell_type": "markdown",
     "metadata": {},
     "source": [
      "# Ansible\n",
      "\n",
      " - configuration manager \n",
      " - simple \n",
      " - extensible via modules\n",
      " - written in python\n",
      " - broad community\n",
      " - many external tools\n",
      " - playbook repository\n",
      " - used by openstack, openshift & tonns of project\n",
      " \n",
      " \n",
      " # Configuration Manager\n",
      " \n",
      " bla bla bla infrastructure as code\n",
      " "
     ]
    },
    {
     "cell_type": "markdown",
     "metadata": {},
     "source": [
      " # Advantages\n",
      " \n",
      " No agents: ansible copies python and all deployment scripts/modules to the target machine via ssh and executes them remotely. Some modules though require that target hosts contain specific python libraries.\n",
      " \n",
      " Jobs are executed in parallel, but you can configure for serialization using different strategies for speed up, rollout or other purposes: (link)\n",
      " \n",
      " ![Ansible architecture](https://cdn.pbrd.co/images/390yWc9H0.png \"Ansible architecture\")\n",
      " \n",
      " Authentication can be passwordless (ssh/pki, kerberos) or with password.\n",
      " \n",
      " Automation jobs (Playbooks) are described via YAML - a very concise and simple language. You can validate and lint files with yamllint and ansible-lint\n",
      " \n",
      " Passwords are supported, but SSH keys with ssh-agent are one of the best ways to use Ansible. Though if you want to use Kerberos, that's good too. Lots of options! Root logins are not required, you can login as any user, and then su or sudo to any user."
     ]
    },
    {
     "cell_type": "code",
     "collapsed": false,
     "input": [
      "cd exercise-00/"
     ],
     "language": "python",
     "metadata": {},
     "outputs": [],
     "prompt_number": 16
    },
    {
     "cell_type": "code",
     "collapsed": false,
     "input": [
      "# Let's check our ansible directory\n",
      "!tree"
     ],
     "language": "python",
     "metadata": {},
     "outputs": [],
     "prompt_number": 17
    },
    {
     "cell_type": "markdown",
     "metadata": {},
     "source": [
      "## ansible.cfg \n",
      "\n",
      "It's the main configuration file. While all ansible are in `yaml`, ansible.cfg is in .ini format. Eg.\n",
      "\n",
      "```\n",
      "[stanza]\n",
      "key = value\n",
      "\n",
      "```\n",
      "\n",
      "Let's check the content of a sample ansible.cfg:\n",
      "\n",
      "  - there's a lot of stuff in there\n",
      "  - there will be more ;)\n",
      "  - for now **let's check only the uncommented ones**."
     ]
    },
    {
     "cell_type": "code",
     "collapsed": false,
     "input": [
      "!cat ansible.cfg\n"
     ],
     "language": "python",
     "metadata": {},
     "outputs": [],
     "prompt_number": 15
    },
    {
     "cell_type": "heading",
     "level": 2,
     "metadata": {},
     "source": [
      "Inventories"
     ]
    },
    {
     "cell_type": "code",
     "collapsed": false,
     "input": [
      "# inventory - contains a static list of nodes to contact. \n",
      "# An inventory can be static or dynamic, as we will see in the following lessons\n",
      "\n",
      "!cat inventory"
     ],
     "language": "python",
     "metadata": {
      "scrolled": true
     },
     "outputs": [],
     "prompt_number": 4
    },
    {
     "cell_type": "code",
     "collapsed": false,
     "input": [
      "# You can have many inventory files\n",
      "!cat staging"
     ],
     "language": "python",
     "metadata": {},
     "outputs": [],
     "prompt_number": 19
    },
    {
     "cell_type": "heading",
     "level": 2,
     "metadata": {},
     "source": [
      "Environment variables"
     ]
    },
    {
     "cell_type": "code",
     "collapsed": false,
     "input": [
      "# group_vars - a directory containing environment files for various hosts\n",
      "!tree group_vars"
     ],
     "language": "python",
     "metadata": {},
     "outputs": [],
     "prompt_number": 6
    },
    {
     "cell_type": "code",
     "collapsed": false,
     "input": [
      "# I set  env_name in two different files\n",
      "!grep env_name -r group_vars/\n",
      "\n"
     ],
     "language": "python",
     "metadata": {},
     "outputs": [],
     "prompt_number": 12
    },
    {
     "cell_type": "code",
     "collapsed": false,
     "input": [
      "# The debug module (-m debug) shows a variable.\n",
      "#   by default uses the inventory set into ansible.cfg, thus dumping\n",
      "!ansible all -m debug -a 'var=env_name'\n"
     ],
     "language": "python",
     "metadata": {},
     "outputs": [],
     "prompt_number": 11
    },
    {
     "cell_type": "markdown",
     "metadata": {},
     "source": [
      "## Exercise\n",
      "\n",
      "Dump env_name tied to the staging inventory.\n",
      "\n",
      "  - which is the expected output?\n",
      "  - what ties the \"staging\" inventory file to group_vars/staging?\n"
     ]
    },
    {
     "cell_type": "code",
     "collapsed": false,
     "input": [
      "# Solution\n",
      "\n",
      "!ansible all -i staging -m debug -a 'var=env_name'"
     ],
     "language": "python",
     "metadata": {},
     "outputs": [],
     "prompt_number": 20
    },
    {
     "cell_type": "heading",
     "level": 2,
     "metadata": {},
     "source": [
      "Exercise"
     ]
    },
    {
     "cell_type": "code",
     "collapsed": false,
     "input": [
      "#\n",
      "# Read the inventory and try to predict the output of\n",
      "#\n",
      "!ansible course -i staging -m debug -a 'var=proxy_env'"
     ],
     "language": "python",
     "metadata": {},
     "outputs": [],
     "prompt_number": 22
    }
   ],
   "metadata": {}
  }
 ]
}