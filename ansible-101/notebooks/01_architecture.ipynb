{
 "cells": [
  {
   "cell_type": "markdown",
   "metadata": {},
   "source": [
    "# Ansible\n",
    "\n",
    " - configuration manager \n",
    " - simple \n",
    " - extensible via modules\n",
    " - written in python\n",
    " - broad community\n",
    " - many external tools\n",
    " - playbook repository\n",
    " - used by openstack, openshift & tonns of project\n",
    " \n",
    " \n",
    " # Configuration Manager\n",
    " \n",
    " bla bla bla infrastructure as code\n",
    " \n",
    " # Advantages\n",
    " \n",
    " No agents: ansible copies python and all deployment scripts/modules to the target machine via ssh and executes them remotely. Some modules though require that target hosts contain specific python libraries.\n",
    " \n",
    " Jobs are executed in parallel, but you can configure for serialization using different strategies for speed up, rollout or other purposes: (link)\n",
    " \n",
    " Authentication can be passwordless (ssh/pki, kerberos) or with password.\n",
    " \n",
    " Automation jobs (Playbooks) are described via YAML - a very concise and simple language. You can validate and lint files with yamllint and ansible-lint\n",
    " \n",
    " Passwords are supported, but SSH keys with ssh-agent are one of the best ways to use Ansible. Though if you want to use Kerberos, that's good too. Lots of options! Root logins are not required, you can login as any user, and then su or sudo to any user.\n",
    "\n",
    "\n"
   ]
  },
  {
   "cell_type": "code",
   "execution_count": 2,
   "metadata": {
    "collapsed": false
   },
   "outputs": [
    {
     "name": "stdout",
     "output_type": "stream",
     "text": [
      "[Errno 2] No such file or directory: 'ansible'\n",
      "/notebooks/notebooks/ansible\n"
     ]
    }
   ],
   "source": [
    "cd ansible"
   ]
  },
  {
   "cell_type": "code",
   "execution_count": 12,
   "metadata": {
    "collapsed": false
   },
   "outputs": [
    {
     "name": "stdout",
     "output_type": "stream",
     "text": [
      "total 28\r\n",
      "-rw-rw-r--. 1 1000 1000 904 Jun  9 21:57 ansible.cfg\r\n",
      "-rw-rw-r--. 1 1000 1000 514 Jul 18  2016 inventory\r\n",
      "-rw-rw-r--. 1 1000 1000 188 Jul 18  2016 mytemplate.j2\r\n",
      "-rw-r--r--. 1 1000 1000  27 Jun  9 21:27 python-course-test.retry\r\n",
      "-rw-rw-r--. 1 1000 1000 505 Jul 18  2016 python-course-test.yml\r\n",
      "-rw-r--r--. 1 1000 1000  27 Jun  9 21:27 site.retry\r\n",
      "-rw-rw-r--. 1 1000 1000 448 Jul 18  2016 site.yml\r\n"
     ]
    }
   ],
   "source": [
    "# Let's check our ansible directory\n",
    "!ls -l"
   ]
  },
  {
   "cell_type": "markdown",
   "metadata": {},
   "source": [
    "## ansible.cfg "
   ]
  },
  {
   "cell_type": "code",
   "execution_count": 13,
   "metadata": {
    "collapsed": false
   },
   "outputs": [
    {
     "name": "stdout",
     "output_type": "stream",
     "text": [
      "#\r\n",
      "# Always use ansible.cfg and inventory files to \r\n",
      "#  describe your deployment! \r\n",
      "#\r\n",
      "# This will save time and helps your colleagues to\r\n",
      "#  keep in touch with the environment.\r\n",
      "#\r\n",
      "[defaults]\r\n",
      "# define our inventory file or ansible defaults\r\n",
      "#  to /etc/ansible/hosts.\r\n",
      "inventory = inventory\r\n",
      "\r\n",
      "# It's just for testing purposes (or if you're on a secure cloud)\r\n",
      "#  you may want to avoid typing yes to all host keys.\r\n",
      "# Once you get host keys, you can comment this out and re-enable\r\n",
      "#  checks.\r\n",
      "host_key_checking = False\r\n",
      "\r\n",
      "# When an ansible plabook fails, it creates a retry file which may\r\n",
      "#  pollute the current directory ;) You can move this out using\r\n",
      "#  further variables\r\n",
      "retry_files_enabled = False\r\n",
      "\r\n",
      "# Search password file in here\r\n",
      "# vault_password_file = ~/.ssh/pin\r\n",
      "\r\n",
      "\r\n",
      "# [ssh_connection]\r\n",
      "# ssh_args = -F ./ssh_config/config -o ControlMaster=auto -o ControlPersist=30m\r\n",
      "# control_path = ./ssh_config/ansible-%%r@%%h:%%p\r\n"
     ]
    }
   ],
   "source": [
    "# It's the main configuration file: we'll check it in the following lesson\n",
    "!cat ansible.cfg\n"
   ]
  },
  {
   "cell_type": "markdown",
   "metadata": {},
   "source": [
    "There's a lot of stuff there. \n",
    "\n",
    "There will be more ;) but for now let's stick with that."
   ]
  },
  {
   "cell_type": "markdown",
   "metadata": {},
   "source": [
    "## Inventories"
   ]
  },
  {
   "cell_type": "code",
   "execution_count": 15,
   "metadata": {
    "collapsed": false
   },
   "outputs": [
    {
     "name": "stdout",
     "output_type": "stream",
     "text": [
      "#\r\n",
      "# This inventory file contains a list of server to \r\n",
      "#  play with - divided in groups.\r\n",
      "#\r\n",
      "[course]\r\n",
      "# this is the local machine where you run jupyter\r\n",
      "# the tutorial just works with this one.\r\n",
      "pythonforsysadmin_course_1  ansible_connection=local\r\n",
      "\r\n",
      "\r\n",
      "# Another group of servers\r\n",
      "# where we can pass optional arguments\r\n",
      "# Homework: you can play with this group of host\r\n",
      "#  once you exchange ssh-keys between the pythonforsysadmin_course_1\r\n",
      "#  container and the pythonforsysadmin_ansible_* ones._\r\n",
      "[ansible]\r\n",
      "172.17.0.[5:7]   \r\n",
      "\r\n"
     ]
    }
   ],
   "source": [
    "# inventory - contains a static list of nodes to contact. \n",
    "# An inventory can be static or dynamic, as we will see in the following lessons\n",
    "\n",
    "!cat inventory"
   ]
  },
  {
   "cell_type": "code",
   "execution_count": 17,
   "metadata": {
    "collapsed": false
   },
   "outputs": [
    {
     "name": "stdout",
     "output_type": "stream",
     "text": [
      "#\r\n",
      "# This inventory file contains a list of server to \r\n",
      "#  play with - divided in groups.\r\n",
      "#\r\n",
      "[course]\r\n",
      "# this is the local machine where you run jupyter\r\n",
      "# the tutorial just works with this one.\r\n",
      "pythonforsysadmin_course_1  ansible_connection=local\r\n",
      "\r\n"
     ]
    }
   ],
   "source": [
    "# You can have many inventory files\n",
    "!cat staging"
   ]
  },
  {
   "cell_type": "markdown",
   "metadata": {},
   "source": [
    "## Environment variables"
   ]
  },
  {
   "cell_type": "code",
   "execution_count": 16,
   "metadata": {
    "collapsed": false
   },
   "outputs": [
    {
     "name": "stdout",
     "output_type": "stream",
     "text": [
      "group_vars\r\n",
      "├── all\r\n",
      "└── staging\r\n",
      "\r\n",
      "0 directories, 2 files\r\n"
     ]
    }
   ],
   "source": [
    "# group_vars - a directory containing environment files for various hosts\n",
    "!tree group_vars"
   ]
  },
  {
   "cell_type": "code",
   "execution_count": null,
   "metadata": {
    "collapsed": true
   },
   "outputs": [],
   "source": [
    "# I set  env_name in two different files\n",
    "!grep env_name -r group_vars/\n",
    "\n"
   ]
  },
  {
   "cell_type": "code",
   "execution_count": 28,
   "metadata": {
    "collapsed": false
   },
   "outputs": [
    {
     "name": "stdout",
     "output_type": "stream",
     "text": [
      "group_vars/inventory:env_name: prod\n",
      "group_vars/staging:env_name: staging\n",
      "group_vars/all:env_name: default\n",
      "\u001b[0;32mpythonforsysadmin_course_1 | SUCCESS => {\n",
      "    \"env_name\": \"default\"\n",
      "}\u001b[0m\n",
      "\u001b[0;32m172.17.0.6 | SUCCESS => {\n",
      "    \"env_name\": \"default\"\n",
      "}\u001b[0m\n",
      "\u001b[0;32m172.17.0.5 | SUCCESS => {\n",
      "    \"env_name\": \"default\"\n",
      "}\u001b[0m\n",
      "\u001b[0;32m172.17.0.7 | SUCCESS => {\n",
      "    \"env_name\": \"default\"\n",
      "}\u001b[0m\n",
      "\u001b[0;32mpythonforsysadmin_course_1 | SUCCESS => {\n",
      "    \"env_name\": \"staging\"\n",
      "}\u001b[0m\n"
     ]
    }
   ],
   "source": [
    "# The debug module (-m debug) shows a variable.\n",
    "#   by default uses the inventory set into ansible.cfg, thus dumping\n",
    "!ansible all -m debug -a 'var=env_name'\n"
   ]
  },
  {
   "cell_type": "code",
   "execution_count": 31,
   "metadata": {
    "collapsed": false
   },
   "outputs": [
    {
     "name": "stdout",
     "output_type": "stream",
     "text": [
      "\u001b[0;32mpythonforsysadmin_course_1 | SUCCESS => {\r\n",
      "    \"env_name\": \"staging\"\r\n",
      "}\u001b[0m\r\n"
     ]
    }
   ],
   "source": [
    "#\n",
    "# Exercise: Dump env_name tied to the staging inventory.\n",
    "#\n",
    "# - which is the expected output?\n",
    "# - what ties the \"staging\" inventory file to group_vars/staging?\n",
    "\n",
    "!ansible all -i staging -m debug -a 'var=env_name'"
   ]
  },
  {
   "cell_type": "code",
   "execution_count": 33,
   "metadata": {
    "collapsed": false
   },
   "outputs": [
    {
     "name": "stdout",
     "output_type": "stream",
     "text": [
      "\u001b[0;32mpythonforsysadmin_course_1 | SUCCESS => {\r\n",
      "    \"proxy_env\": {\r\n",
      "        \"http_proxy\": \"http://proxy:3128\", \r\n",
      "        \"https_proxy\": \"http://proxy:3128\", \r\n",
      "        \"no_proxy\": \"127.0.0.1,localhost,.example.com\"\r\n",
      "    }\r\n",
      "}\u001b[0m\r\n"
     ]
    }
   ],
   "source": [
    "#\n",
    "# Which is the expected output of\n",
    "#\n",
    "!ansible course -i staging -m debug -a 'var=proxy_env'"
   ]
  }
 ],
 "metadata": {
  "celltoolbar": "Raw Cell Format",
  "kernelspec": {
   "display_name": "Python 2",
   "language": "python",
   "name": "python2"
  },
  "language_info": {
   "codemirror_mode": {
    "name": "ipython",
    "version": 2
   },
   "file_extension": ".py",
   "mimetype": "text/x-python",
   "name": "python",
   "nbconvert_exporter": "python",
   "pygments_lexer": "ipython2",
   "version": "2.7.12"
  }
 },
 "nbformat": 4,
 "nbformat_minor": 0
}
