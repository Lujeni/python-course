{
 "cells": [
  {
   "cell_type": "markdown",
   "metadata": {},
   "source": [
    "# Bastion hosts\n",
    "\n",
    "There are many reasons for using bastion hosts:\n",
    "\n",
    "  - security access eg in cloud environment\n",
    "  - vpn eg via windows hosts\n",
    "  \n",
    "The latter case is quite boring as ansible doesn't support windows as a client platform.\n",
    "\n",
    "A standard approach is:\n",
    "\n",
    "  - have a ssh server or a proxy installed on the bastion\n",
    "  - connecto the bastion to the remote network (eg. via vpn)\n",
    "  - configure ssh options in ansible to connect thru the bastion\n",
    "  \n",
    "We'll do this via two configuration files:\n",
    "\n",
    "  - a standard ssh_config where we put the passthru configuration\n",
    "  - a simple ansible.cfg referencing ssh_config\n",
    "  \n",
    "This approach allows us:\n",
    "\n",
    "  1. to test the standard ssh connection thru the bastion without messing with ansible\n",
    "  2. keep ansible.cfg simple in case we want to reuse them from the intranet (Eg. without traversing the bastion)\n",
    "  \n",
    "  "
   ]
  },
  {
   "cell_type": "code",
   "execution_count": null,
   "metadata": {
    "collapsed": true
   },
   "outputs": [],
   "source": []
  },
  {
   "cell_type": "code",
   "execution_count": 1,
   "metadata": {},
   "outputs": [
    {
     "name": "stdout",
     "output_type": "stream",
     "text": [
      "/notebooks/exercise-06\n"
     ]
    }
   ],
   "source": [
    "cd exercise-06/"
   ]
  },
  {
   "cell_type": "markdown",
   "metadata": {},
   "source": [
    "## ssh_config\n",
    "\n",
    "Instead of continuously passing options to ssh, we can use [`-F ssh_config`](/edit/notebooks/exercise-06/ssh_config) and put configurations there.\n"
   ]
  },
  {
   "cell_type": "code",
   "execution_count": 15,
   "metadata": {},
   "outputs": [
    {
     "name": "stdout",
     "output_type": "stream",
     "text": [
      "#\r\n",
      "# This is the ssh client configuration file.\r\n",
      "#\r\n",
      "\r\n",
      "\r\n",
      "# We can specify an ssh user/key for each network\r\n",
      "# which is very useful on cloud deployments (eg. openstack)\r\n",
      "Host 172.23.0.*\r\n",
      "  User centos\r\n",
      "  IdentityFile ~/id_ansible\r\n",
      "  # Just for testing purposes, we could \r\n",
      "  # want to skip host key checking\r\n",
      "  StrictHostKeyChecking no\r\n",
      "\r\n",
      "# And can alias a node and *eventually* set a custom port\r\n",
      "Host bastion\r\n",
      "  User root\r\n",
      "  Hostname 172.17.0.5\r\n",
      "  StrictHostKeyChecking no\r\n",
      "  UserKnownHostsFile /dev/null\r\n",
      "  IdentityFile ../exercise-01/id_ansible  \r\n",
      "\r\n",
      "#\r\n",
      "# Here's the magic ProxyCommand stuff.\r\n",
      "# BEWARE: some ssh-client versions re-process bastion to 172.17.0.5\r\n",
      "#         and this would end in a recursive proxy transit. Always\r\n",
      "#         set an EXCLUSION for your bastion host ip.\r\n",
      "# \r\n",
      "Host !172.17.0.5,172.17.0.*\r\n",
      "  User root\r\n",
      "  StrictHostKeyChecking no\r\n",
      "  UserKnownHostsFile /dev/null\r\n",
      "  IdentityFile ../exercise-01/id_ansible\r\n",
      "  ProxyCommand ssh -F ssh_config root@bastion -W %h:%p\r\n",
      "\r\n"
     ]
    }
   ],
   "source": [
    "!cat ssh_config"
   ]
  },
  {
   "cell_type": "markdown",
   "metadata": {},
   "source": [
    "If we don't use it, we can turn off `GSSApiAuthentication` which attempts may slow down the connection.\n",
    "\n",
    "## Connect to the bastion\n",
    "\n",
    "Test connectivity to the bastion. Check your host ips and modify  [`ssh_config`](/edit/notebooks/exercise-06/ssh_config)  accordingly.\n",
    "\n",
    "** Replace ALL bastion occurrencies, including the one below the BEWARE note**"
   ]
  },
  {
   "cell_type": "code",
   "execution_count": 3,
   "metadata": {},
   "outputs": [
    {
     "name": "stdout",
     "output_type": "stream",
     "text": [
      "172.17.0.5\r\n"
     ]
    }
   ],
   "source": [
    "fmt=r'{{.NetworkSettings.IPAddress}}'\n",
    "!docker  -H tcp://172.17.0.1:2375 inspect  ansible101_bastion_1 --format {fmt} # pass variables *before* commands ;)"
   ]
  },
  {
   "cell_type": "markdown",
   "metadata": {},
   "source": [
    "### Exercise\n",
    "\n",
    "Write the [ssh-copy-id.yml](/edit/notebooks/exercise-06/ssh-copy-id.yml) playbook to install an ssh key to the bastion.\n",
    "\n",
    "\n",
    "Bastion credentials are:\n",
    "\n",
    "  - user: `root`\n",
    "  - password `root`\n",
    " \n",
    "Try to do it without watching the previous exercises:\n",
    "\n",
    "  - modify the empty [`ansible.cfg`](/edit/notebooks/exercise-06/ansible.cfg)\n",
    "      * referencing a pin file \n",
    "      * passing [`[ssh_connection]`](http://docs.ansible.com/ansible/intro_configuration.html#openssh-specific-settings) arguments to avoid ssh key mismatches\n",
    "      * pointing to the local inventory\n",
    "  - store credentials in the encrypted [`vault.yml`](/edit/notebooks/exercise-06/vault.yml). \n",
    "  - provide an [`inventory`](/edit/notebooks/exercise-06/inventory) file \n",
    "\n",
    "You can reuse the old id_ansible key or:\n",
    "\n",
    "  - create a new one and adjust the reference in [` ssh_config`](/edit/notebooks/exercise-06/ssh_config) \n",
    "  \n",
    "Hint:\n",
    "\n",
    "  - if you provide an IdentityFile, password authentication won't work on the `bastion` node;\n",
    "  - you *must* copy ssh id file using password authentication and eventually clean up your known_host file"
   ]
  },
  {
   "cell_type": "code",
   "execution_count": 8,
   "metadata": {
    "collapsed": true
   },
   "outputs": [],
   "source": [
    "# Use this cell to create the pin file and then encrypt the vault"
   ]
  },
  {
   "cell_type": "code",
   "execution_count": null,
   "metadata": {
    "collapsed": true
   },
   "outputs": [],
   "source": [
    "# Use this cell to test/run  the playbook. You can --limit the execution to the bastion host only."
   ]
  },
  {
   "cell_type": "code",
   "execution_count": 14,
   "metadata": {},
   "outputs": [
    {
     "name": "stdout",
     "output_type": "stream",
     "text": [
      "Warning: Permanently added '172.17.0.5' (ECDSA) to the list of known hosts.\n",
      "cb6a5b6f0620\n"
     ]
    }
   ],
   "source": [
    "!ssh -Fssh_config bastion hostname"
   ]
  },
  {
   "cell_type": "code",
   "execution_count": null,
   "metadata": {
    "collapsed": true
   },
   "outputs": [],
   "source": []
  },
  {
   "cell_type": "markdown",
   "metadata": {},
   "source": [
    "# ansible.cfg and ssh_config\n",
    "\n",
    "In the previous exercise, we used the `[ssh_connection]` stanza to configure ssh connections.\n",
    "\n",
    "We can instead just set\n",
    "\n",
    "```\n",
    "[ssh_connection]\n",
    "ssh_args = -F ssh_config\n",
    "```\n",
    "\n",
    "Write everything in ssh_config.\n",
    "\n",
    "\n",
    "Connecting via bastion in ansible enforcing multiple references to ssh_config"
   ]
  },
  {
   "cell_type": "markdown",
   "metadata": {},
   "source": [
    "### Exercise\n",
    "\n",
    "Uncomment the last lines of  [` ssh_config`](/edit/notebooks/exercise-06/ssh_config) and try to use bastion for connecting to the other hosts\n",
    "  "
   ]
  },
  {
   "cell_type": "code",
   "execution_count": 17,
   "metadata": {},
   "outputs": [
    {
     "name": "stdout",
     "output_type": "stream",
     "text": [
      "172.17.0.4\r\n"
     ]
    }
   ],
   "source": [
    "fmt=r'{{.NetworkSettings.IPAddress}}'\n",
    "!docker  -H tcp://172.17.0.1:2375 inspect  ansible101_web_1 --format {fmt} # pass variables *before* commands ;)"
   ]
  },
  {
   "cell_type": "code",
   "execution_count": 25,
   "metadata": {},
   "outputs": [
    {
     "name": "stdout",
     "output_type": "stream",
     "text": [
      "Warning: Permanently added '172.17.0.5' (ECDSA) to the list of known hosts.\n",
      "Warning: Permanently added '172.17.0.4' (ECDSA) to the list of known hosts.\n",
      "1: lo    inet 127.0.0.1/8 scope host lo\\       valid_lft forever preferred_lft forever\n",
      "44: eth0    inet 172.17.0.4/16 scope global eth0\\       valid_lft forever preferred_lft forever\n"
     ]
    }
   ],
   "source": [
    "!ssh -F ssh_config  root@172.17.0.4 ip -4 -o a  # get host ip"
   ]
  },
  {
   "cell_type": "markdown",
   "metadata": {},
   "source": [
    "## Exercise\n",
    "\n",
    "Configure your `ansible.cfg` so that every web host is accessed via the bastion.\n",
    "\n",
    "  - recycle your dynamic inventory script to access web hosts\n",
    "  - your id_ansible key should already be on your web hosts \n",
    "  - use ansible -m ping to check host connectivity\n",
    "  - run `ps -ef | grep ssh` on your docker host to check all the `ProxyCommand` processes."
   ]
  },
  {
   "cell_type": "code",
   "execution_count": null,
   "metadata": {
    "collapsed": true
   },
   "outputs": [],
   "source": []
  }
 ],
 "metadata": {
  "kernelspec": {
   "display_name": "Python 2",
   "language": "python",
   "name": "python2"
  },
  "language_info": {
   "codemirror_mode": {
    "name": "ipython",
    "version": 2
   },
   "file_extension": ".py",
   "mimetype": "text/x-python",
   "name": "python",
   "nbconvert_exporter": "python",
   "pygments_lexer": "ipython2",
   "version": "2.7.11"
  }
 },
 "nbformat": 4,
 "nbformat_minor": 1
}
